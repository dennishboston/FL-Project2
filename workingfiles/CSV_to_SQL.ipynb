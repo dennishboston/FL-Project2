{
 "cells": [
  {
   "cell_type": "code",
   "execution_count": 22,
   "metadata": {},
   "outputs": [],
   "source": [
    "# Clean up any existing database and cleaned files prior to creating the DB and cleaned CSV files"
   ]
  },
  {
   "cell_type": "code",
   "execution_count": 23,
   "metadata": {},
   "outputs": [
    {
     "name": "stdout",
     "output_type": "stream",
     "text": [
      "rm: data/home_cleaned.csv: No such file or directory\n",
      "rm: data/income_cleaned.csv: No such file or directory\n"
     ]
    }
   ],
   "source": [
    "!rm data/flp2Data.sqlite data/home_cleaned.csv data/income_cleaned.csv"
   ]
  },
  {
   "cell_type": "code",
   "execution_count": 24,
   "metadata": {
    "collapsed": true
   },
   "outputs": [],
   "source": [
    "# Dependencies\n",
    "import pandas as pd\n",
    "import numpy as np\n",
    "import os\n",
    "pd.set_option('display.height', 1000)\n",
    "pd.set_option('display.max_rows', 500)\n",
    "pd.set_option('display.max_columns', 500)\n",
    "pd.set_option('display.width', 1000)"
   ]
  },
  {
   "cell_type": "markdown",
   "metadata": {},
   "source": [
    "# Data Cleaning"
   ]
  },
  {
   "cell_type": "code",
   "execution_count": 25,
   "metadata": {
    "collapsed": true
   },
   "outputs": [],
   "source": [
    "# Path of the CSV file\n",
    "# homecsv = \"data/median_home_prices.csv\"\n",
    "# incomecsv = \"data/median_household_income.csv\"\n",
    "# wellcsv = \"data/horizontal_wells.csv\"\n",
    "# crimecsv = \"data/violent_crime_rates.csv\"\n",
    "allcsv = \"data/project_data_combined.csv\"\n"
   ]
  },
  {
   "cell_type": "code",
   "execution_count": 26,
   "metadata": {},
   "outputs": [],
   "source": [
    "# Read CSV file into a pandas DataFrame\n",
    "all_df = pd.read_csv(allcsv, dtype=object)"
   ]
  },
  {
   "cell_type": "code",
   "execution_count": 27,
   "metadata": {},
   "outputs": [
    {
     "data": {
      "text/html": [
       "<div>\n",
       "<style scoped>\n",
       "    .dataframe tbody tr th:only-of-type {\n",
       "        vertical-align: middle;\n",
       "    }\n",
       "\n",
       "    .dataframe tbody tr th {\n",
       "        vertical-align: top;\n",
       "    }\n",
       "\n",
       "    .dataframe thead th {\n",
       "        text-align: right;\n",
       "    }\n",
       "</style>\n",
       "<table border=\"1\" class=\"dataframe\">\n",
       "  <thead>\n",
       "    <tr style=\"text-align: right;\">\n",
       "      <th></th>\n",
       "      <th>state</th>\n",
       "      <th>abbr</th>\n",
       "      <th>hw_09</th>\n",
       "      <th>hw_10</th>\n",
       "      <th>hw_11</th>\n",
       "      <th>hw_12</th>\n",
       "      <th>hw_13</th>\n",
       "      <th>hw_14</th>\n",
       "      <th>hw_15</th>\n",
       "      <th>hw_16</th>\n",
       "      <th>lat</th>\n",
       "      <th>long</th>\n",
       "      <th>mhp_09</th>\n",
       "      <th>mhp_10</th>\n",
       "      <th>mhp_11</th>\n",
       "      <th>mhp_12</th>\n",
       "      <th>mhp_13</th>\n",
       "      <th>mhp_14</th>\n",
       "      <th>mhp_15</th>\n",
       "      <th>mhp_16</th>\n",
       "      <th>mhi_09</th>\n",
       "      <th>mhi_10</th>\n",
       "      <th>mhi_11</th>\n",
       "      <th>mhi_12</th>\n",
       "      <th>mhi_13</th>\n",
       "      <th>mhi_14</th>\n",
       "      <th>mhi_15</th>\n",
       "      <th>mhi_16</th>\n",
       "      <th>vc_09</th>\n",
       "      <th>vc_10</th>\n",
       "      <th>vc_11</th>\n",
       "      <th>vc_12</th>\n",
       "      <th>vc_13</th>\n",
       "      <th>vc_14</th>\n",
       "      <th>vc_15</th>\n",
       "      <th>vc_16</th>\n",
       "    </tr>\n",
       "  </thead>\n",
       "  <tbody>\n",
       "    <tr>\n",
       "      <th>0</th>\n",
       "      <td>Alabama</td>\n",
       "      <td>AL</td>\n",
       "      <td>12</td>\n",
       "      <td>17</td>\n",
       "      <td>27</td>\n",
       "      <td>30</td>\n",
       "      <td>28</td>\n",
       "      <td>27</td>\n",
       "      <td>26</td>\n",
       "      <td>23</td>\n",
       "      <td>32.806671</td>\n",
       "      <td>-86.79113</td>\n",
       "      <td>111900</td>\n",
       "      <td>117600</td>\n",
       "      <td>120800</td>\n",
       "      <td>122300</td>\n",
       "      <td>122500</td>\n",
       "      <td>123800</td>\n",
       "      <td>125500</td>\n",
       "      <td>128500</td>\n",
       "      <td>41216</td>\n",
       "      <td>42081</td>\n",
       "      <td>42934</td>\n",
       "      <td>43160</td>\n",
       "      <td>43253</td>\n",
       "      <td>43511</td>\n",
       "      <td>43623</td>\n",
       "      <td>44758</td>\n",
       "      <td>449.8</td>\n",
       "      <td>377</td>\n",
       "      <td>420.1</td>\n",
       "      <td>449.9</td>\n",
       "      <td>0</td>\n",
       "      <td>427.4</td>\n",
       "      <td>472.4</td>\n",
       "      <td>532.3</td>\n",
       "    </tr>\n",
       "    <tr>\n",
       "      <th>1</th>\n",
       "      <td>Alaska</td>\n",
       "      <td>AK</td>\n",
       "      <td>13</td>\n",
       "      <td>14</td>\n",
       "      <td>12</td>\n",
       "      <td>12</td>\n",
       "      <td>12</td>\n",
       "      <td>14</td>\n",
       "      <td>15</td>\n",
       "      <td>14</td>\n",
       "      <td>61.370716</td>\n",
       "      <td>-152.404419</td>\n",
       "      <td>221300</td>\n",
       "      <td>229100</td>\n",
       "      <td>235100</td>\n",
       "      <td>237900</td>\n",
       "      <td>241800</td>\n",
       "      <td>246300</td>\n",
       "      <td>250000</td>\n",
       "      <td>257100</td>\n",
       "      <td>64635</td>\n",
       "      <td>66521</td>\n",
       "      <td>69014</td>\n",
       "      <td>69917</td>\n",
       "      <td>70760</td>\n",
       "      <td>71829</td>\n",
       "      <td>72515</td>\n",
       "      <td>74444</td>\n",
       "      <td>633</td>\n",
       "      <td>638.8</td>\n",
       "      <td>606.5</td>\n",
       "      <td>603.2</td>\n",
       "      <td>0</td>\n",
       "      <td>635.8</td>\n",
       "      <td>730.2</td>\n",
       "      <td>804.2</td>\n",
       "    </tr>\n",
       "    <tr>\n",
       "      <th>2</th>\n",
       "      <td>Arizona</td>\n",
       "      <td>AZ</td>\n",
       "      <td>0</td>\n",
       "      <td>0</td>\n",
       "      <td>0</td>\n",
       "      <td>0</td>\n",
       "      <td>0</td>\n",
       "      <td>0</td>\n",
       "      <td>0</td>\n",
       "      <td>0</td>\n",
       "      <td>33.729759</td>\n",
       "      <td>-111.431221</td>\n",
       "      <td>218400</td>\n",
       "      <td>215000</td>\n",
       "      <td>197400</td>\n",
       "      <td>175900</td>\n",
       "      <td>165100</td>\n",
       "      <td>162900</td>\n",
       "      <td>167500</td>\n",
       "      <td>176900</td>\n",
       "      <td>50296</td>\n",
       "      <td>50448</td>\n",
       "      <td>50752</td>\n",
       "      <td>50256</td>\n",
       "      <td>49774</td>\n",
       "      <td>49928</td>\n",
       "      <td>50255</td>\n",
       "      <td>51340</td>\n",
       "      <td>408.3</td>\n",
       "      <td>408.1</td>\n",
       "      <td>405.9</td>\n",
       "      <td>428.9</td>\n",
       "      <td>0</td>\n",
       "      <td>399.9</td>\n",
       "      <td>410.2</td>\n",
       "      <td>470.1</td>\n",
       "    </tr>\n",
       "    <tr>\n",
       "      <th>3</th>\n",
       "      <td>Arkansas</td>\n",
       "      <td>AR</td>\n",
       "      <td>2078</td>\n",
       "      <td>2944</td>\n",
       "      <td>3760</td>\n",
       "      <td>4446</td>\n",
       "      <td>4913</td>\n",
       "      <td>5394</td>\n",
       "      <td>5639</td>\n",
       "      <td>5585</td>\n",
       "      <td>34.969704</td>\n",
       "      <td>-92.373123</td>\n",
       "      <td>97200</td>\n",
       "      <td>102300</td>\n",
       "      <td>105100</td>\n",
       "      <td>106300</td>\n",
       "      <td>107300</td>\n",
       "      <td>108700</td>\n",
       "      <td>111400</td>\n",
       "      <td>114700</td>\n",
       "      <td>38542</td>\n",
       "      <td>39267</td>\n",
       "      <td>40149</td>\n",
       "      <td>40531</td>\n",
       "      <td>40768</td>\n",
       "      <td>41264</td>\n",
       "      <td>41371</td>\n",
       "      <td>42336</td>\n",
       "      <td>517.7</td>\n",
       "      <td>505.3</td>\n",
       "      <td>480.9</td>\n",
       "      <td>469.1</td>\n",
       "      <td>0</td>\n",
       "      <td>480.1</td>\n",
       "      <td>521.3</td>\n",
       "      <td>550.9</td>\n",
       "    </tr>\n",
       "    <tr>\n",
       "      <th>4</th>\n",
       "      <td>California</td>\n",
       "      <td>CA</td>\n",
       "      <td>558</td>\n",
       "      <td>575</td>\n",
       "      <td>679</td>\n",
       "      <td>1009</td>\n",
       "      <td>1261</td>\n",
       "      <td>1558</td>\n",
       "      <td>1717</td>\n",
       "      <td>1697</td>\n",
       "      <td>36.116203</td>\n",
       "      <td>-119.681564</td>\n",
       "      <td>479200</td>\n",
       "      <td>458500</td>\n",
       "      <td>421600</td>\n",
       "      <td>383900</td>\n",
       "      <td>366400</td>\n",
       "      <td>371400</td>\n",
       "      <td>385500</td>\n",
       "      <td>409300</td>\n",
       "      <td>60392</td>\n",
       "      <td>60883</td>\n",
       "      <td>61632</td>\n",
       "      <td>61400</td>\n",
       "      <td>61094</td>\n",
       "      <td>61489</td>\n",
       "      <td>61818</td>\n",
       "      <td>63783</td>\n",
       "      <td>472</td>\n",
       "      <td>440.6</td>\n",
       "      <td>411.1</td>\n",
       "      <td>423.1</td>\n",
       "      <td>0</td>\n",
       "      <td>396.1</td>\n",
       "      <td>426.3</td>\n",
       "      <td>445.3</td>\n",
       "    </tr>\n",
       "  </tbody>\n",
       "</table>\n",
       "</div>"
      ],
      "text/plain": [
       "        state abbr hw_09 hw_10 hw_11 hw_12 hw_13 hw_14 hw_15 hw_16        lat         long  mhp_09  mhp_10  mhp_11  mhp_12  mhp_13  mhp_14  mhp_15  mhp_16 mhi_09 mhi_10 mhi_11 mhi_12 mhi_13 mhi_14 mhi_15 mhi_16  vc_09  vc_10  vc_11  vc_12 vc_13  vc_14  vc_15  vc_16\n",
       "0     Alabama   AL    12    17    27    30    28    27    26    23  32.806671    -86.79113  111900  117600  120800  122300  122500  123800  125500  128500  41216  42081  42934  43160  43253  43511  43623  44758  449.8    377  420.1  449.9     0  427.4  472.4  532.3\n",
       "1      Alaska   AK    13    14    12    12    12    14    15    14  61.370716  -152.404419  221300  229100  235100  237900  241800  246300  250000  257100  64635  66521  69014  69917  70760  71829  72515  74444    633  638.8  606.5  603.2     0  635.8  730.2  804.2\n",
       "2     Arizona   AZ     0     0     0     0     0     0     0     0  33.729759  -111.431221  218400  215000  197400  175900  165100  162900  167500  176900  50296  50448  50752  50256  49774  49928  50255  51340  408.3  408.1  405.9  428.9     0  399.9  410.2  470.1\n",
       "3    Arkansas   AR  2078  2944  3760  4446  4913  5394  5639  5585  34.969704   -92.373123   97200  102300  105100  106300  107300  108700  111400  114700  38542  39267  40149  40531  40768  41264  41371  42336  517.7  505.3  480.9  469.1     0  480.1  521.3  550.9\n",
       "4  California   CA   558   575   679  1009  1261  1558  1717  1697  36.116203  -119.681564  479200  458500  421600  383900  366400  371400  385500  409300  60392  60883  61632  61400  61094  61489  61818  63783    472  440.6  411.1  423.1     0  396.1  426.3  445.3"
      ]
     },
     "execution_count": 27,
     "metadata": {},
     "output_type": "execute_result"
    }
   ],
   "source": [
    "# Preview DataFrame\n",
    "# Note that some rows are missing gender\n",
    "all_df.head()"
   ]
  },
  {
   "cell_type": "code",
   "execution_count": null,
   "metadata": {},
   "outputs": [],
   "source": [
    "all_df['long'] = pd.to_numeric(all_df['long'], errors='coerce').fillna(0)"
   ]
  },
  {
   "cell_type": "markdown",
   "metadata": {},
   "source": [
    "# Database Creation"
   ]
  },
  {
   "cell_type": "code",
   "execution_count": null,
   "metadata": {},
   "outputs": [],
   "source": []
  },
  {
   "cell_type": "code",
   "execution_count": 28,
   "metadata": {},
   "outputs": [
    {
     "data": {
      "text/plain": [
       "state     object\n",
       "abbr      object\n",
       "hw_09     object\n",
       "hw_10     object\n",
       "hw_11     object\n",
       "hw_12     object\n",
       "hw_13     object\n",
       "hw_14     object\n",
       "hw_15     object\n",
       "hw_16     object\n",
       "lat       object\n",
       "long      object\n",
       "mhp_09    object\n",
       "mhp_10    object\n",
       "mhp_11    object\n",
       "mhp_12    object\n",
       "mhp_13    object\n",
       "mhp_14    object\n",
       "mhp_15    object\n",
       "mhp_16    object\n",
       "mhi_09    object\n",
       "mhi_10    object\n",
       "mhi_11    object\n",
       "mhi_12    object\n",
       "mhi_13    object\n",
       "mhi_14    object\n",
       "mhi_15    object\n",
       "mhi_16    object\n",
       "vc_09     object\n",
       "vc_10     object\n",
       "vc_11     object\n",
       "vc_12     object\n",
       "vc_13     object\n",
       "vc_14     object\n",
       "vc_15     object\n",
       "vc_16     object\n",
       "dtype: object"
      ]
     },
     "execution_count": 28,
     "metadata": {},
     "output_type": "execute_result"
    }
   ],
   "source": [
    "all_df.dtypes\n"
   ]
  },
  {
   "cell_type": "code",
   "execution_count": 29,
   "metadata": {
    "collapsed": true
   },
   "outputs": [],
   "source": [
    "# Python SQL toolkit and Object Relational Mapper\n",
    "import sqlalchemy\n",
    "from sqlalchemy import create_engine, MetaData\n",
    "from sqlalchemy.ext.declarative import declarative_base\n",
    "from sqlalchemy import Column, Integer, String, Numeric, Text, Float"
   ]
  },
  {
   "cell_type": "code",
   "execution_count": 30,
   "metadata": {
    "collapsed": true
   },
   "outputs": [],
   "source": [
    "# Create an engine to a SQLite database file called `customers.sqlite`\n",
    "engine = create_engine(\"sqlite:///data/flp2Data.sqlite\")"
   ]
  },
  {
   "cell_type": "code",
   "execution_count": 31,
   "metadata": {},
   "outputs": [],
   "source": [
    "#total dataset\n"
   ]
  },
  {
   "cell_type": "code",
   "execution_count": 32,
   "metadata": {},
   "outputs": [],
   "source": [
    "# Create a connection to the engine called `conn`\n",
    "conn = engine.connect()"
   ]
  },
  {
   "cell_type": "code",
   "execution_count": 33,
   "metadata": {},
   "outputs": [],
   "source": [
    "# Use `declarative_base` from SQLAlchemy to model the demographics table as an ORM class\n",
    "# Make sure to specify types for each column, e.g. Integer, Text, etc.\n",
    "# http://docs.sqlalchemy.org/en/latest/core/type_basics.html\n",
    "Base = declarative_base()\n",
    "\n",
    "class Projectdata(Base):\n",
    "    __tablename__ = 'projectdata'\n",
    "\n",
    "    id = Column(Integer, primary_key=True)\n",
    "    state = Column(Text)\n",
    "    abbr = Column(Text)\n",
    "    hw_09 = Column(Integer)\n",
    "    hw_10 = Column(Integer)\n",
    "    hw_11 = Column(Integer)\n",
    "    hw_12 = Column(Integer)\n",
    "    hw_13 = Column(Integer)\n",
    "    hw_14 = Column(Integer)\n",
    "    hw_15 = Column(Integer)\n",
    "    hw_16 = Column(Integer)\n",
    "    lat = Column(Text)\n",
    "    long = Column(Text)\n",
    "    mhp_09 = Column(Integer)\n",
    "    mhp_10 = Column(Integer)\n",
    "    mhp_11 = Column(Integer)\n",
    "    mhp_12 = Column(Integer)\n",
    "    mhp_13 = Column(Integer)\n",
    "    mhp_14 = Column(Integer)\n",
    "    mhp_15 = Column(Integer)\n",
    "    mhp_16 = Column(Integer)\n",
    "    mhi_09 = Column(Integer)\n",
    "    mhi_10 = Column(Integer)\n",
    "    mhi_11 = Column(Integer)\n",
    "    mhi_12 = Column(Integer)\n",
    "    mhi_13 = Column(Integer)\n",
    "    mhi_14 = Column(Integer)\n",
    "    mhi_15 = Column(Integer)\n",
    "    mhi_16 = Column(Integer)\n",
    "    vc_09 = Column(Integer)\n",
    "    vc_10 = Column(Integer)\n",
    "    vc_11 = Column(Integer)\n",
    "    vc_12 = Column(Integer)\n",
    "    vc_13 = Column(Integer)\n",
    "    vc_14 = Column(Integer)\n",
    "    vc_15 = Column(Integer)\n",
    "    vc_16 = Column(Integer)\n",
    "    \n",
    "    def __repr__(self):\n",
    "        return f\"id={self.id}, name={self.name}\"\n",
    "# More on __repr__: https://stackoverflow.com/questions/1984162/purpose-of-pythons-repr  "
   ]
  },
  {
   "cell_type": "code",
   "execution_count": 34,
   "metadata": {},
   "outputs": [],
   "source": [
    "# Use `create_all` to create the median home income table in the database\n",
    "Base.metadata.create_all(engine)"
   ]
  },
  {
   "cell_type": "code",
   "execution_count": 35,
   "metadata": {},
   "outputs": [],
   "source": [
    "# Next we process median home income\n",
    "# Use Orient='records' to create a list of data to write\n",
    "# to_dict() cleans out DataFrame metadata as well\n",
    "# http://pandas-docs.github.io/pandas-docs-travis/io.html#orient-options\n",
    "all_data = all_df.to_dict(orient='records')"
   ]
  },
  {
   "cell_type": "code",
   "execution_count": 36,
   "metadata": {},
   "outputs": [
    {
     "name": "stdout",
     "output_type": "stream",
     "text": [
      "[{'state': 'Alabama', 'abbr': 'AL', 'hw_09': '12', 'hw_10': '17', 'hw_11': '27', 'hw_12': '30', 'hw_13': '28', 'hw_14': '27', 'hw_15': '26', 'hw_16': '23', 'lat': '32.806671', 'long': '-86.79113', 'mhp_09': '111900', 'mhp_10': '117600', 'mhp_11': '120800', 'mhp_12': '122300', 'mhp_13': '122500', 'mhp_14': '123800', 'mhp_15': '125500', 'mhp_16': '128500', 'mhi_09': '41216', 'mhi_10': '42081', 'mhi_11': '42934', 'mhi_12': '43160', 'mhi_13': '43253', 'mhi_14': '43511', 'mhi_15': '43623', 'mhi_16': '44758', 'vc_09': '449.8', 'vc_10': '377', 'vc_11': '420.1', 'vc_12': '449.9', 'vc_13': '0', 'vc_14': '427.4', 'vc_15': '472.4', 'vc_16': '532.3'}, {'state': 'Alaska', 'abbr': 'AK', 'hw_09': '13', 'hw_10': '14', 'hw_11': '12', 'hw_12': '12', 'hw_13': '12', 'hw_14': '14', 'hw_15': '15', 'hw_16': '14', 'lat': '61.370716', 'long': '-152.404419', 'mhp_09': '221300', 'mhp_10': '229100', 'mhp_11': '235100', 'mhp_12': '237900', 'mhp_13': '241800', 'mhp_14': '246300', 'mhp_15': '250000', 'mhp_16': '257100', 'mhi_09': '64635', 'mhi_10': '66521', 'mhi_11': '69014', 'mhi_12': '69917', 'mhi_13': '70760', 'mhi_14': '71829', 'mhi_15': '72515', 'mhi_16': '74444', 'vc_09': '633', 'vc_10': '638.8', 'vc_11': '606.5', 'vc_12': '603.2', 'vc_13': '0', 'vc_14': '635.8', 'vc_15': '730.2', 'vc_16': '804.2'}, {'state': 'Arizona', 'abbr': 'AZ', 'hw_09': '0', 'hw_10': '0', 'hw_11': '0', 'hw_12': '0', 'hw_13': '0', 'hw_14': '0', 'hw_15': '0', 'hw_16': '0', 'lat': '33.729759', 'long': '-111.431221', 'mhp_09': '218400', 'mhp_10': '215000', 'mhp_11': '197400', 'mhp_12': '175900', 'mhp_13': '165100', 'mhp_14': '162900', 'mhp_15': '167500', 'mhp_16': '176900', 'mhi_09': '50296', 'mhi_10': '50448', 'mhi_11': '50752', 'mhi_12': '50256', 'mhi_13': '49774', 'mhi_14': '49928', 'mhi_15': '50255', 'mhi_16': '51340', 'vc_09': '408.3', 'vc_10': '408.1', 'vc_11': '405.9', 'vc_12': '428.9', 'vc_13': '0', 'vc_14': '399.9', 'vc_15': '410.2', 'vc_16': '470.1'}, {'state': 'Arkansas', 'abbr': 'AR', 'hw_09': '2078', 'hw_10': '2944', 'hw_11': '3760', 'hw_12': '4446', 'hw_13': '4913', 'hw_14': '5394', 'hw_15': '5639', 'hw_16': '5585', 'lat': '34.969704', 'long': '-92.373123', 'mhp_09': '97200', 'mhp_10': '102300', 'mhp_11': '105100', 'mhp_12': '106300', 'mhp_13': '107300', 'mhp_14': '108700', 'mhp_15': '111400', 'mhp_16': '114700', 'mhi_09': '38542', 'mhi_10': '39267', 'mhi_11': '40149', 'mhi_12': '40531', 'mhi_13': '40768', 'mhi_14': '41264', 'mhi_15': '41371', 'mhi_16': '42336', 'vc_09': '517.7', 'vc_10': '505.3', 'vc_11': '480.9', 'vc_12': '469.1', 'vc_13': '0', 'vc_14': '480.1', 'vc_15': '521.3', 'vc_16': '550.9'}, {'state': 'California', 'abbr': 'CA', 'hw_09': '558', 'hw_10': '575', 'hw_11': '679', 'hw_12': '1009', 'hw_13': '1261', 'hw_14': '1558', 'hw_15': '1717', 'hw_16': '1697', 'lat': '36.116203', 'long': '-119.681564', 'mhp_09': '479200', 'mhp_10': '458500', 'mhp_11': '421600', 'mhp_12': '383900', 'mhp_13': '366400', 'mhp_14': '371400', 'mhp_15': '385500', 'mhp_16': '409300', 'mhi_09': '60392', 'mhi_10': '60883', 'mhi_11': '61632', 'mhi_12': '61400', 'mhi_13': '61094', 'mhi_14': '61489', 'mhi_15': '61818', 'mhi_16': '63783', 'vc_09': '472', 'vc_10': '440.6', 'vc_11': '411.1', 'vc_12': '423.1', 'vc_13': '0', 'vc_14': '396.1', 'vc_15': '426.3', 'vc_16': '445.3'}]\n"
     ]
    }
   ],
   "source": [
    "# Data is just a list of dictionaries that represent each row of data\n",
    "print(all_data[:5])"
   ]
  },
  {
   "cell_type": "code",
   "execution_count": 37,
   "metadata": {},
   "outputs": [],
   "source": [
    "# Use MetaData from SQLAlchemy to reflect the tables\n",
    "metadata = MetaData(bind=engine)\n",
    "metadata.reflect()"
   ]
  },
  {
   "cell_type": "code",
   "execution_count": 38,
   "metadata": {},
   "outputs": [],
   "source": [
    "# Save the reference to the `homeprice table as a variable called `table`\n",
    "table = sqlalchemy.Table('projectdata', metadata, autoload=True)"
   ]
  },
  {
   "cell_type": "code",
   "execution_count": 39,
   "metadata": {},
   "outputs": [
    {
     "data": {
      "text/plain": [
       "<sqlalchemy.engine.result.ResultProxy at 0x10dfae7f0>"
      ]
     },
     "execution_count": 39,
     "metadata": {},
     "output_type": "execute_result"
    }
   ],
   "source": [
    "# Use `table.delete()` to remove any pre-existing data.\n",
    "# Note that this is a convenience function so that you can re-run the example code multiple times.\n",
    "# You would not likely do this step in production.\n",
    "conn.execute(table.delete())"
   ]
  },
  {
   "cell_type": "code",
   "execution_count": 40,
   "metadata": {},
   "outputs": [
    {
     "data": {
      "text/plain": [
       "<sqlalchemy.engine.result.ResultProxy at 0x10e08f7b8>"
      ]
     },
     "execution_count": 40,
     "metadata": {},
     "output_type": "execute_result"
    }
   ],
   "source": [
    "# Use `table.insert()` to insert the data into the table\n",
    "# The SQL table is populated during this step\n",
    "conn.execute(table.insert(), all_data)"
   ]
  },
  {
   "cell_type": "code",
   "execution_count": 41,
   "metadata": {},
   "outputs": [
    {
     "data": {
      "text/plain": [
       "[(1, 'Alabama', 'AL', 12, 17, 27, 30, 28, 27, 26, 23, '32.806671', '-86.79113', 111900, 117600, 120800, 122300, 122500, 123800, 125500, 128500, 41216, 42081, 42934, 43160, 43253, 43511, 43623, 44758, 449.8, 377, 420.1, 449.9, 0, 427.4, 472.4, 532.3),\n",
       " (2, 'Alaska', 'AK', 13, 14, 12, 12, 12, 14, 15, 14, '61.370716', '-152.404419', 221300, 229100, 235100, 237900, 241800, 246300, 250000, 257100, 64635, 66521, 69014, 69917, 70760, 71829, 72515, 74444, 633, 638.8, 606.5, 603.2, 0, 635.8, 730.2, 804.2),\n",
       " (3, 'Arizona', 'AZ', 0, 0, 0, 0, 0, 0, 0, 0, '33.729759', '-111.431221', 218400, 215000, 197400, 175900, 165100, 162900, 167500, 176900, 50296, 50448, 50752, 50256, 49774, 49928, 50255, 51340, 408.3, 408.1, 405.9, 428.9, 0, 399.9, 410.2, 470.1),\n",
       " (4, 'Arkansas', 'AR', 2078, 2944, 3760, 4446, 4913, 5394, 5639, 5585, '34.969704', '-92.373123', 97200, 102300, 105100, 106300, 107300, 108700, 111400, 114700, 38542, 39267, 40149, 40531, 40768, 41264, 41371, 42336, 517.7, 505.3, 480.9, 469.1, 0, 480.1, 521.3, 550.9),\n",
       " (5, 'California', 'CA', 558, 575, 679, 1009, 1261, 1558, 1717, 1697, '36.116203', '-119.681564', 479200, 458500, 421600, 383900, 366400, 371400, 385500, 409300, 60392, 60883, 61632, 61400, 61094, 61489, 61818, 63783, 472, 440.6, 411.1, 423.1, 0, 396.1, 426.3, 445.3),\n",
       " (6, 'Colorado', 'CO', 115, 180, 426, 963, 1831, 3091, 4228, 5064, '39.059811', '-105.311104', 234100, 236600, 236700, 236800, 236200, 239400, 247800, 264600, 56222, 56456, 57685, 58244, 58433, 59448, 60629, 62520, 337.8, 320.8, 320.2, 308.9, 0, 309.1, 321, 342.6),\n",
       " (7, 'Connecticut', 'CT', 0, 0, 0, 0, 0, 0, 0, 0, '41.597782', '-72.755371', 295800, 296500, 293100, 285900, 278900, 274500, 270500, 269300, 67721, 67740, 69243, 69519, 69461, 69899, 70331, 71755, 298.7, 281.4, 272.8, 283, 0, 236.9, 218.5, 227.1),\n",
       " (8, 'Delaware', 'DE', 0, 0, 0, 0, 0, 0, 0, 0, '39.318523', '-75.507141', 235000, 242300, 244100, 241100, 235800, 232900, 231500, 233100, 57618, 57599, 59317, 60119, 59878, 60231, 60509, 61017, 636.6, 620.9, 559.5, 547.4, 0, 489.1, 499, 508.8),\n",
       " (9, 'District of Columbia', 'DC', 0, 0, 0, 0, 0, 0, 0, 0, '38.897438', '-77.026817', 440500, 443300, 442600, 443000, 445200, 454500, 475800, 506100, 56519, 58526, 61835, 64267, 65830, 69235, 70848, 72935, 1345.9, 1330.2, 1202.1, 1243.7, 0, 1244.4, 1269.1, 1205.9),\n",
       " (10, 'Florida', 'FL', 0, 1, 1, 1, 0, 0, 1, 0, '27.766279', '-81.686783', 211300, 205600, 188600, 170800, 160200, 156200, 159000, 166800, 47450, 47661, 47827, 47309, 46956, 47212, 47507, 48900, 612.5, 542.4, 515.3, 487.1, 0, 540.5, 461.9, 430.3)]"
      ]
     },
     "execution_count": 41,
     "metadata": {},
     "output_type": "execute_result"
    }
   ],
   "source": [
    "# Test that the insert works by fetching the first 5 rows. \n",
    "conn.execute(\"select * from projectdata limit 10\").fetchall()"
   ]
  },
  {
   "cell_type": "code",
   "execution_count": 21,
   "metadata": {},
   "outputs": [
    {
     "data": {
      "text/plain": [
       "Index(['state', 'abbr', 'hw_09', 'hw_10', 'hw_11', 'hw_12', 'hw_13', 'hw_14', 'hw_15', 'hw_16', 'lat', 'long', 'mhp_09', 'mhp_10', 'mhp_11', 'mhp_12', 'mhp_13', 'mhp_14', 'mhp_15', 'mhp_16', 'mhi_09', 'mhi_10', 'mhi_11', 'mhi_12', 'mhi_13', 'mhi_14', 'mhi_15', 'mhi_16', 'vc_09', 'vc_10', 'vc_11', 'vc_12', 'vc_13', 'vc_14', 'vc_15', 'vc_16'], dtype='object')"
      ]
     },
     "execution_count": 21,
     "metadata": {},
     "output_type": "execute_result"
    }
   ],
   "source": [
    "all_df.columns"
   ]
  },
  {
   "cell_type": "code",
   "execution_count": null,
   "metadata": {},
   "outputs": [],
   "source": [
    "all_df.iloc[0:]"
   ]
  },
  {
   "cell_type": "code",
   "execution_count": null,
   "metadata": {},
   "outputs": [],
   "source": []
  },
  {
   "cell_type": "markdown",
   "metadata": {},
   "source": [
    "Holding pen"
   ]
  },
  {
   "cell_type": "code",
   "execution_count": null,
   "metadata": {
    "collapsed": true
   },
   "outputs": [],
   "source": [
    "# Read CSV file into a pandas DataFrame\n",
    "# income_df = pd.read_csv(incomecsv, dtype=object)\n"
   ]
  },
  {
   "cell_type": "code",
   "execution_count": null,
   "metadata": {},
   "outputs": [],
   "source": [
    "# Read CSV file into a pandas DataFrame\n",
    "# home_df = pd.read_csv(homecsv, dtype=object)\n"
   ]
  },
  {
   "cell_type": "code",
   "execution_count": null,
   "metadata": {},
   "outputs": [],
   "source": [
    "# home_df.head()"
   ]
  },
  {
   "cell_type": "code",
   "execution_count": null,
   "metadata": {},
   "outputs": [],
   "source": [
    "# crime_df.describe()"
   ]
  },
  {
   "cell_type": "code",
   "execution_count": null,
   "metadata": {},
   "outputs": [],
   "source": [
    "# well_df.head()"
   ]
  },
  {
   "cell_type": "code",
   "execution_count": null,
   "metadata": {},
   "outputs": [],
   "source": [
    "# Use `dropna` to drop any rows where there is missing data\n",
    "# Notice that index has not been reset and contains a gap (0,2,5,6,7)\n",
    "# df = df.dropna(axis=0)\n",
    "# df.head()"
   ]
  },
  {
   "cell_type": "code",
   "execution_count": null,
   "metadata": {},
   "outputs": [],
   "source": [
    "# Drop the 'gender' column and reset the index\n",
    "# Note that after resetting the index, the gap is gone\n",
    "# df = df.drop(['gender'], axis=1).reset_index(drop=True)\n",
    "# df.head()"
   ]
  },
  {
   "cell_type": "code",
   "execution_count": null,
   "metadata": {
    "collapsed": true
   },
   "outputs": [],
   "source": [
    "# # Save the cleaned data to a file called `customers_cleaned.csv`\n",
    "# new_csv = \"customers_cleaned.csv\"\n",
    "# df.to_csv(new_csv, index=False)"
   ]
  },
  {
   "cell_type": "code",
   "execution_count": null,
   "metadata": {},
   "outputs": [],
   "source": [
    "# Read CSV file into a pandas DataFrame\n",
    "# well_df = pd.read_csv(wellcsv, dtype=object)"
   ]
  },
  {
   "cell_type": "code",
   "execution_count": null,
   "metadata": {},
   "outputs": [],
   "source": [
    "# # Read CSV file into a pandas DataFrame\n",
    "# crime_df = pd.read_csv(crimecsv, dtype=object)"
   ]
  },
  {
   "cell_type": "code",
   "execution_count": null,
   "metadata": {
    "collapsed": true
   },
   "outputs": [],
   "source": [
    "# Use `declarative_base` from SQLAlchemy to model the demographics table as an ORM class\n",
    "# Make sure to specify types for each column, e.g. Integer, Text, etc.\n",
    "# # http://docs.sqlalchemy.org/en/latest/core/type_basics.html\n",
    "# Base = declarative_base()\n",
    "\n",
    "# class Home(Base):\n",
    "#     __tablename__ = 'homeprice'\n",
    "\n",
    "#     id = Column(Integer, primary_key=True)\n",
    "#     state = Column(Text)\n",
    "#     abbr = Column(Text)\n",
    "#     mhp_09 = Column(Integer)\n",
    "#     mhp_10 = Column(Integer)\n",
    "#     mhp_11 = Column(Integer)\n",
    "#     mhp_12 = Column(Integer)\n",
    "#     mhp_13 = Column(Integer)\n",
    "#     mhp_14 = Column(Integer)\n",
    "#     mhp_15 = Column(Integer)\n",
    "#     mhp_16 = Column(Integer)\n",
    "    \n",
    "#     def __repr__(self):\n",
    "#         return f\"id={self.id}, name={self.name}\"\n",
    "# # More on __repr__: https://stackoverflow.com/questions/1984162/purpose-of-pythons-repr    "
   ]
  },
  {
   "cell_type": "code",
   "execution_count": null,
   "metadata": {
    "collapsed": true
   },
   "outputs": [],
   "source": [
    "# # Use `create_all` to create the median home price table in the database\n",
    "# Base.metadata.create_all(engine)"
   ]
  },
  {
   "cell_type": "code",
   "execution_count": null,
   "metadata": {
    "collapsed": true
   },
   "outputs": [],
   "source": [
    "# Load the cleaned csv file into a pandas dataframe\n",
    "# new_df = pd.read_csv(new_csv)"
   ]
  },
  {
   "cell_type": "code",
   "execution_count": null,
   "metadata": {
    "collapsed": true
   },
   "outputs": [],
   "source": [
    "# Start with median home price\n",
    "# Use Orient='records' to create a list of data to write\n",
    "# to_dict() cleans out DataFrame metadata as well\n",
    "# # http://pandas-docs.github.io/pandas-docs-travis/io.html#orient-options\n",
    "# home_data = home_df.to_dict(orient='records')"
   ]
  },
  {
   "cell_type": "code",
   "execution_count": null,
   "metadata": {},
   "outputs": [],
   "source": [
    "# # Data is just a list of dictionaries that represent each row of data\n",
    "# print(home_data[:5])"
   ]
  },
  {
   "cell_type": "code",
   "execution_count": null,
   "metadata": {
    "collapsed": true
   },
   "outputs": [],
   "source": [
    "# # Use MetaData from SQLAlchemy to reflect the tables\n",
    "# metadata = MetaData(bind=engine)\n",
    "# metadata.reflect()"
   ]
  },
  {
   "cell_type": "code",
   "execution_count": null,
   "metadata": {
    "collapsed": true
   },
   "outputs": [],
   "source": [
    "# # Save the reference to the `homeprice table as a variable called `table`\n",
    "# table = sqlalchemy.Table('homeprice', metadata, autoload=True)"
   ]
  },
  {
   "cell_type": "code",
   "execution_count": null,
   "metadata": {},
   "outputs": [],
   "source": [
    "# Use `table.delete()` to remove any pre-existing data.\n",
    "# Note that this is a convenience function so that you can re-run the example code multiple times.\n",
    "# # You would not likely do this step in production.\n",
    "# conn.execute(table.delete())"
   ]
  },
  {
   "cell_type": "code",
   "execution_count": null,
   "metadata": {},
   "outputs": [],
   "source": [
    "# Use `table.insert()` to insert the data into the table\n",
    "# # The SQL table is populated during this step\n",
    "# conn.execute(table.insert(), home_data)"
   ]
  },
  {
   "cell_type": "code",
   "execution_count": null,
   "metadata": {},
   "outputs": [],
   "source": [
    "# # Test that the insert works by fetching the first 5 rows. \n",
    "# conn.execute(\"select * from homeprice limit 5\").fetchall()"
   ]
  },
  {
   "cell_type": "code",
   "execution_count": null,
   "metadata": {},
   "outputs": [],
   "source": [
    "# Now lets create the median income table\n"
   ]
  },
  {
   "cell_type": "code",
   "execution_count": null,
   "metadata": {},
   "outputs": [],
   "source": [
    "# Create a connection to the engine called `conn`\n",
    "conn = engine.connect()"
   ]
  },
  {
   "cell_type": "code",
   "execution_count": null,
   "metadata": {},
   "outputs": [],
   "source": [
    "# Use `declarative_base` from SQLAlchemy to model the demographics table as an ORM class\n",
    "# Make sure to specify types for each column, e.g. Integer, Text, etc.\n",
    "# http://docs.sqlalchemy.org/en/latest/core/type_basics.html\n",
    "Base = declarative_base()\n",
    "\n",
    "class Home(Base):\n",
    "    __tablename__ = 'income'\n",
    "\n",
    "    id = Column(Integer, primary_key=True)\n",
    "    state = Column(Text)\n",
    "    abbr = Column(Text)\n",
    "    mhi_09 = Column(Integer)\n",
    "    mhi_10 = Column(Integer)\n",
    "    mhi_11 = Column(Integer)\n",
    "    mhi_12 = Column(Integer)\n",
    "    mhi_13 = Column(Integer)\n",
    "    mhi_14 = Column(Integer)\n",
    "    mhi_15 = Column(Integer)\n",
    "    mhi_16 = Column(Integer)\n",
    "    \n",
    "    def __repr__(self):\n",
    "        return f\"id={self.id}, name={self.name}\"\n",
    "# More on __repr__: https://stackoverflow.com/questions/1984162/purpose-of-pythons-repr   "
   ]
  },
  {
   "cell_type": "code",
   "execution_count": null,
   "metadata": {},
   "outputs": [],
   "source": [
    "# Use `create_all` to create the median home income table in the database\n",
    "Base.metadata.create_all(engine)"
   ]
  },
  {
   "cell_type": "code",
   "execution_count": null,
   "metadata": {},
   "outputs": [],
   "source": [
    "# Next we process median home income\n",
    "# Use Orient='records' to create a list of data to write\n",
    "# to_dict() cleans out DataFrame metadata as well\n",
    "# http://pandas-docs.github.io/pandas-docs-travis/io.html#orient-options\n",
    "income_data = income_df.to_dict(orient='records')"
   ]
  },
  {
   "cell_type": "code",
   "execution_count": null,
   "metadata": {},
   "outputs": [],
   "source": [
    "# Data is just a list of dictionaries that represent each row of data\n",
    "print(income_data[:5])"
   ]
  },
  {
   "cell_type": "code",
   "execution_count": null,
   "metadata": {},
   "outputs": [],
   "source": [
    "# Use MetaData from SQLAlchemy to reflect the tables\n",
    "metadata = MetaData(bind=engine)\n",
    "metadata.reflect()"
   ]
  },
  {
   "cell_type": "code",
   "execution_count": null,
   "metadata": {},
   "outputs": [],
   "source": [
    "# Save the reference to the `homeprice table as a variable called `table`\n",
    "table = sqlalchemy.Table('income', metadata, autoload=True)"
   ]
  },
  {
   "cell_type": "code",
   "execution_count": null,
   "metadata": {},
   "outputs": [],
   "source": [
    "# Use `table.delete()` to remove any pre-existing data.\n",
    "# Note that this is a convenience function so that you can re-run the example code multiple times.\n",
    "# You would not likely do this step in production.\n",
    "conn.execute(table.delete())"
   ]
  },
  {
   "cell_type": "code",
   "execution_count": null,
   "metadata": {},
   "outputs": [],
   "source": [
    "# Use `table.insert()` to insert the data into the table\n",
    "# The SQL table is populated during this step\n",
    "conn.execute(table.insert(), income_data)"
   ]
  },
  {
   "cell_type": "code",
   "execution_count": null,
   "metadata": {},
   "outputs": [],
   "source": [
    "# Test that the insert works by fetching the first 5 rows. \n",
    "conn.execute(\"select * from homeprice limit 5\").fetchall()"
   ]
  },
  {
   "cell_type": "code",
   "execution_count": null,
   "metadata": {},
   "outputs": [],
   "source": [
    "all_df.head()"
   ]
  }
 ],
 "metadata": {
  "kernelspec": {
   "display_name": "Python 3",
   "language": "python",
   "name": "python3"
  },
  "language_info": {
   "codemirror_mode": {
    "name": "ipython",
    "version": 3
   },
   "file_extension": ".py",
   "mimetype": "text/x-python",
   "name": "python",
   "nbconvert_exporter": "python",
   "pygments_lexer": "ipython3",
   "version": "3.6.4"
  },
  "nteract": {
   "version": "0.2.0"
  },
  "varInspector": {
   "cols": {
    "lenName": 16,
    "lenType": 16,
    "lenVar": 40
   },
   "kernels_config": {
    "python": {
     "delete_cmd_postfix": "",
     "delete_cmd_prefix": "del ",
     "library": "var_list.py",
     "varRefreshCmd": "print(var_dic_list())"
    },
    "r": {
     "delete_cmd_postfix": ") ",
     "delete_cmd_prefix": "rm(",
     "library": "var_list.r",
     "varRefreshCmd": "cat(var_dic_list()) "
    }
   },
   "types_to_exclude": [
    "module",
    "function",
    "builtin_function_or_method",
    "instance",
    "_Feature"
   ],
   "window_display": false
  }
 },
 "nbformat": 4,
 "nbformat_minor": 2
}
