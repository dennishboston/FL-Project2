{
 "cells": [
  {
   "cell_type": "code",
   "execution_count": 1,
   "metadata": {
    "collapsed": true
   },
   "outputs": [],
   "source": [
    "# Dependencies\n",
    "import pandas as pd\n",
    "import numpy as np\n",
    "import os"
   ]
  },
  {
   "cell_type": "markdown",
   "metadata": {},
   "source": [
    "# Data Cleaning"
   ]
  },
  {
   "cell_type": "code",
   "execution_count": 38,
   "metadata": {
    "collapsed": true
   },
   "outputs": [],
   "source": [
    "# Path of the CSV file\n",
    "csvfile = \"data/masterfile.csv\"\n",
    "statefile = \"data/stateabbreviations.csv\""
   ]
  },
  {
   "cell_type": "code",
   "execution_count": 39,
   "metadata": {},
   "outputs": [],
   "source": [
    "# Read CSV file into a pandas DataFrame\n",
    "df = pd.read_csv(csvfile, dtype=object)\n",
    "states = pd.read_csv(statefile, dtype=object)"
   ]
  },
  {
   "cell_type": "code",
   "execution_count": 4,
   "metadata": {},
   "outputs": [
    {
     "data": {
      "text/html": [
       "<div>\n",
       "<style>\n",
       "    .dataframe thead tr:only-child th {\n",
       "        text-align: right;\n",
       "    }\n",
       "\n",
       "    .dataframe thead th {\n",
       "        text-align: left;\n",
       "    }\n",
       "\n",
       "    .dataframe tbody tr th {\n",
       "        vertical-align: top;\n",
       "    }\n",
       "</style>\n",
       "<table border=\"1\" class=\"dataframe\">\n",
       "  <thead>\n",
       "    <tr style=\"text-align: right;\">\n",
       "      <th></th>\n",
       "      <th>state</th>\n",
       "      <th>year</th>\n",
       "      <th>productionRateBracketBOEperday</th>\n",
       "      <th>classNumber</th>\n",
       "      <th>oilWells</th>\n",
       "      <th>percentageOilWells</th>\n",
       "      <th>oilWellsAnnualOilProductionMMbbl</th>\n",
       "      <th>oilWellsPercentageofOilProduction</th>\n",
       "      <th>oilWellsOilRatePerWellBBLperDay</th>\n",
       "      <th>oilWellsAnnualGasProdBCF</th>\n",
       "      <th>...</th>\n",
       "      <th>gasWellsPercentageofGasWells</th>\n",
       "      <th>gasWellsAnnualGasProdBCF</th>\n",
       "      <th>gasWellsPercentageofGasProduction</th>\n",
       "      <th>gasWellsGasRatePerWellMCFperDay</th>\n",
       "      <th>gasWellsAnnualOilProdMMbbl</th>\n",
       "      <th>gasWellsOilRatePerWellBBLperDay</th>\n",
       "      <th>totalNumberofWells</th>\n",
       "      <th>totalWellsAnnualOilProdMMbbl</th>\n",
       "      <th>totalWellsAnnualProduction</th>\n",
       "      <th>horizontalWellCount</th>\n",
       "    </tr>\n",
       "  </thead>\n",
       "  <tbody>\n",
       "    <tr>\n",
       "      <th>0</th>\n",
       "      <td>AK</td>\n",
       "      <td>2016</td>\n",
       "      <td>A_  0 - 1</td>\n",
       "      <td>1</td>\n",
       "      <td>10</td>\n",
       "      <td>0.48</td>\n",
       "      <td>0.001</td>\n",
       "      <td>0</td>\n",
       "      <td>0.267</td>\n",
       "      <td>0</td>\n",
       "      <td>...</td>\n",
       "      <td>5.01</td>\n",
       "      <td>0.01</td>\n",
       "      <td>0</td>\n",
       "      <td>2.175</td>\n",
       "      <td>0</td>\n",
       "      <td>0</td>\n",
       "      <td>27</td>\n",
       "      <td>0.001</td>\n",
       "      <td>0.01</td>\n",
       "      <td>0</td>\n",
       "    </tr>\n",
       "    <tr>\n",
       "      <th>1</th>\n",
       "      <td>AK</td>\n",
       "      <td>2016</td>\n",
       "      <td>B_  1 - 2</td>\n",
       "      <td>2</td>\n",
       "      <td>6</td>\n",
       "      <td>0.29</td>\n",
       "      <td>0.002</td>\n",
       "      <td>0</td>\n",
       "      <td>1.215</td>\n",
       "      <td>0.003</td>\n",
       "      <td>...</td>\n",
       "      <td>0.88</td>\n",
       "      <td>0.008</td>\n",
       "      <td>0</td>\n",
       "      <td>10.949</td>\n",
       "      <td>0</td>\n",
       "      <td>0</td>\n",
       "      <td>9</td>\n",
       "      <td>0.002</td>\n",
       "      <td>0.011</td>\n",
       "      <td>0</td>\n",
       "    </tr>\n",
       "    <tr>\n",
       "      <th>2</th>\n",
       "      <td>AK</td>\n",
       "      <td>2016</td>\n",
       "      <td>C_  2 - 4</td>\n",
       "      <td>3</td>\n",
       "      <td>10</td>\n",
       "      <td>0.48</td>\n",
       "      <td>0.006</td>\n",
       "      <td>0</td>\n",
       "      <td>2.785</td>\n",
       "      <td>0.006</td>\n",
       "      <td>...</td>\n",
       "      <td>2.65</td>\n",
       "      <td>0.043</td>\n",
       "      <td>0.01</td>\n",
       "      <td>17.449</td>\n",
       "      <td>0.001</td>\n",
       "      <td>0.359</td>\n",
       "      <td>19</td>\n",
       "      <td>0.007</td>\n",
       "      <td>0.049</td>\n",
       "      <td>0</td>\n",
       "    </tr>\n",
       "    <tr>\n",
       "      <th>3</th>\n",
       "      <td>AK</td>\n",
       "      <td>2016</td>\n",
       "      <td>D_  4 - 6</td>\n",
       "      <td>4</td>\n",
       "      <td>11</td>\n",
       "      <td>0.53</td>\n",
       "      <td>0.013</td>\n",
       "      <td>0.01</td>\n",
       "      <td>3.998</td>\n",
       "      <td>0.018</td>\n",
       "      <td>...</td>\n",
       "      <td>2.06</td>\n",
       "      <td>0.061</td>\n",
       "      <td>0.02</td>\n",
       "      <td>27.434</td>\n",
       "      <td>0.001</td>\n",
       "      <td>0.283</td>\n",
       "      <td>18</td>\n",
       "      <td>0.013</td>\n",
       "      <td>0.08</td>\n",
       "      <td>1</td>\n",
       "    </tr>\n",
       "    <tr>\n",
       "      <th>4</th>\n",
       "      <td>AK</td>\n",
       "      <td>2016</td>\n",
       "      <td>E_  6 - 8</td>\n",
       "      <td>5</td>\n",
       "      <td>12</td>\n",
       "      <td>0.57</td>\n",
       "      <td>0.02</td>\n",
       "      <td>0.01</td>\n",
       "      <td>5.756</td>\n",
       "      <td>0.023</td>\n",
       "      <td>...</td>\n",
       "      <td>0.88</td>\n",
       "      <td>0.044</td>\n",
       "      <td>0.01</td>\n",
       "      <td>39.673</td>\n",
       "      <td>0.001</td>\n",
       "      <td>0.47</td>\n",
       "      <td>15</td>\n",
       "      <td>0.021</td>\n",
       "      <td>0.067</td>\n",
       "      <td>0</td>\n",
       "    </tr>\n",
       "  </tbody>\n",
       "</table>\n",
       "<p>5 rows × 22 columns</p>\n",
       "</div>"
      ],
      "text/plain": [
       "  state  year productionRateBracketBOEperday classNumber oilWells  \\\n",
       "0    AK  2016                      A_  0 - 1           1       10   \n",
       "1    AK  2016                      B_  1 - 2           2        6   \n",
       "2    AK  2016                      C_  2 - 4           3       10   \n",
       "3    AK  2016                      D_  4 - 6           4       11   \n",
       "4    AK  2016                      E_  6 - 8           5       12   \n",
       "\n",
       "  percentageOilWells oilWellsAnnualOilProductionMMbbl  \\\n",
       "0               0.48                            0.001   \n",
       "1               0.29                            0.002   \n",
       "2               0.48                            0.006   \n",
       "3               0.53                            0.013   \n",
       "4               0.57                             0.02   \n",
       "\n",
       "  oilWellsPercentageofOilProduction oilWellsOilRatePerWellBBLperDay  \\\n",
       "0                                 0                           0.267   \n",
       "1                                 0                           1.215   \n",
       "2                                 0                           2.785   \n",
       "3                              0.01                           3.998   \n",
       "4                              0.01                           5.756   \n",
       "\n",
       "  oilWellsAnnualGasProdBCF         ...         gasWellsPercentageofGasWells  \\\n",
       "0                        0         ...                                 5.01   \n",
       "1                    0.003         ...                                 0.88   \n",
       "2                    0.006         ...                                 2.65   \n",
       "3                    0.018         ...                                 2.06   \n",
       "4                    0.023         ...                                 0.88   \n",
       "\n",
       "  gasWellsAnnualGasProdBCF gasWellsPercentageofGasProduction  \\\n",
       "0                     0.01                                 0   \n",
       "1                    0.008                                 0   \n",
       "2                    0.043                              0.01   \n",
       "3                    0.061                              0.02   \n",
       "4                    0.044                              0.01   \n",
       "\n",
       "  gasWellsGasRatePerWellMCFperDay gasWellsAnnualOilProdMMbbl  \\\n",
       "0                           2.175                          0   \n",
       "1                          10.949                          0   \n",
       "2                          17.449                      0.001   \n",
       "3                          27.434                      0.001   \n",
       "4                          39.673                      0.001   \n",
       "\n",
       "  gasWellsOilRatePerWellBBLperDay totalNumberofWells  \\\n",
       "0                               0                 27   \n",
       "1                               0                  9   \n",
       "2                           0.359                 19   \n",
       "3                           0.283                 18   \n",
       "4                            0.47                 15   \n",
       "\n",
       "  totalWellsAnnualOilProdMMbbl totalWellsAnnualProduction horizontalWellCount  \n",
       "0                        0.001                       0.01                   0  \n",
       "1                        0.002                      0.011                   0  \n",
       "2                        0.007                      0.049                   0  \n",
       "3                        0.013                       0.08                   1  \n",
       "4                        0.021                      0.067                   0  \n",
       "\n",
       "[5 rows x 22 columns]"
      ]
     },
     "execution_count": 4,
     "metadata": {},
     "output_type": "execute_result"
    }
   ],
   "source": [
    "# Preview DataFrame\n",
    "# Note that some rows are missing gender\n",
    "df.head()"
   ]
  },
  {
   "cell_type": "code",
   "execution_count": 5,
   "metadata": {},
   "outputs": [
    {
     "data": {
      "text/html": [
       "<div>\n",
       "<style>\n",
       "    .dataframe thead tr:only-child th {\n",
       "        text-align: right;\n",
       "    }\n",
       "\n",
       "    .dataframe thead th {\n",
       "        text-align: left;\n",
       "    }\n",
       "\n",
       "    .dataframe tbody tr th {\n",
       "        vertical-align: top;\n",
       "    }\n",
       "</style>\n",
       "<table border=\"1\" class=\"dataframe\">\n",
       "  <thead>\n",
       "    <tr style=\"text-align: right;\">\n",
       "      <th></th>\n",
       "      <th>state</th>\n",
       "      <th>year</th>\n",
       "      <th>productionRateBracketBOEperday</th>\n",
       "      <th>classNumber</th>\n",
       "      <th>oilWells</th>\n",
       "      <th>percentageOilWells</th>\n",
       "      <th>oilWellsAnnualOilProductionMMbbl</th>\n",
       "      <th>oilWellsPercentageofOilProduction</th>\n",
       "      <th>oilWellsOilRatePerWellBBLperDay</th>\n",
       "      <th>oilWellsAnnualGasProdBCF</th>\n",
       "      <th>...</th>\n",
       "      <th>gasWellsPercentageofGasWells</th>\n",
       "      <th>gasWellsAnnualGasProdBCF</th>\n",
       "      <th>gasWellsPercentageofGasProduction</th>\n",
       "      <th>gasWellsGasRatePerWellMCFperDay</th>\n",
       "      <th>gasWellsAnnualOilProdMMbbl</th>\n",
       "      <th>gasWellsOilRatePerWellBBLperDay</th>\n",
       "      <th>totalNumberofWells</th>\n",
       "      <th>totalWellsAnnualOilProdMMbbl</th>\n",
       "      <th>totalWellsAnnualProduction</th>\n",
       "      <th>horizontalWellCount</th>\n",
       "    </tr>\n",
       "  </thead>\n",
       "  <tbody>\n",
       "    <tr>\n",
       "      <th>0</th>\n",
       "      <td>AK</td>\n",
       "      <td>2016</td>\n",
       "      <td>A_  0 - 1</td>\n",
       "      <td>1</td>\n",
       "      <td>10</td>\n",
       "      <td>0.48</td>\n",
       "      <td>0.001</td>\n",
       "      <td>0</td>\n",
       "      <td>0.267</td>\n",
       "      <td>0</td>\n",
       "      <td>...</td>\n",
       "      <td>5.01</td>\n",
       "      <td>0.01</td>\n",
       "      <td>0</td>\n",
       "      <td>2.175</td>\n",
       "      <td>0</td>\n",
       "      <td>0</td>\n",
       "      <td>27</td>\n",
       "      <td>0.001</td>\n",
       "      <td>0.01</td>\n",
       "      <td>0</td>\n",
       "    </tr>\n",
       "    <tr>\n",
       "      <th>1</th>\n",
       "      <td>AK</td>\n",
       "      <td>2016</td>\n",
       "      <td>B_  1 - 2</td>\n",
       "      <td>2</td>\n",
       "      <td>6</td>\n",
       "      <td>0.29</td>\n",
       "      <td>0.002</td>\n",
       "      <td>0</td>\n",
       "      <td>1.215</td>\n",
       "      <td>0.003</td>\n",
       "      <td>...</td>\n",
       "      <td>0.88</td>\n",
       "      <td>0.008</td>\n",
       "      <td>0</td>\n",
       "      <td>10.949</td>\n",
       "      <td>0</td>\n",
       "      <td>0</td>\n",
       "      <td>9</td>\n",
       "      <td>0.002</td>\n",
       "      <td>0.011</td>\n",
       "      <td>0</td>\n",
       "    </tr>\n",
       "    <tr>\n",
       "      <th>2</th>\n",
       "      <td>AK</td>\n",
       "      <td>2016</td>\n",
       "      <td>C_  2 - 4</td>\n",
       "      <td>3</td>\n",
       "      <td>10</td>\n",
       "      <td>0.48</td>\n",
       "      <td>0.006</td>\n",
       "      <td>0</td>\n",
       "      <td>2.785</td>\n",
       "      <td>0.006</td>\n",
       "      <td>...</td>\n",
       "      <td>2.65</td>\n",
       "      <td>0.043</td>\n",
       "      <td>0.01</td>\n",
       "      <td>17.449</td>\n",
       "      <td>0.001</td>\n",
       "      <td>0.359</td>\n",
       "      <td>19</td>\n",
       "      <td>0.007</td>\n",
       "      <td>0.049</td>\n",
       "      <td>0</td>\n",
       "    </tr>\n",
       "    <tr>\n",
       "      <th>3</th>\n",
       "      <td>AK</td>\n",
       "      <td>2016</td>\n",
       "      <td>D_  4 - 6</td>\n",
       "      <td>4</td>\n",
       "      <td>11</td>\n",
       "      <td>0.53</td>\n",
       "      <td>0.013</td>\n",
       "      <td>0.01</td>\n",
       "      <td>3.998</td>\n",
       "      <td>0.018</td>\n",
       "      <td>...</td>\n",
       "      <td>2.06</td>\n",
       "      <td>0.061</td>\n",
       "      <td>0.02</td>\n",
       "      <td>27.434</td>\n",
       "      <td>0.001</td>\n",
       "      <td>0.283</td>\n",
       "      <td>18</td>\n",
       "      <td>0.013</td>\n",
       "      <td>0.08</td>\n",
       "      <td>1</td>\n",
       "    </tr>\n",
       "    <tr>\n",
       "      <th>4</th>\n",
       "      <td>AK</td>\n",
       "      <td>2016</td>\n",
       "      <td>E_  6 - 8</td>\n",
       "      <td>5</td>\n",
       "      <td>12</td>\n",
       "      <td>0.57</td>\n",
       "      <td>0.02</td>\n",
       "      <td>0.01</td>\n",
       "      <td>5.756</td>\n",
       "      <td>0.023</td>\n",
       "      <td>...</td>\n",
       "      <td>0.88</td>\n",
       "      <td>0.044</td>\n",
       "      <td>0.01</td>\n",
       "      <td>39.673</td>\n",
       "      <td>0.001</td>\n",
       "      <td>0.47</td>\n",
       "      <td>15</td>\n",
       "      <td>0.021</td>\n",
       "      <td>0.067</td>\n",
       "      <td>0</td>\n",
       "    </tr>\n",
       "  </tbody>\n",
       "</table>\n",
       "<p>5 rows × 22 columns</p>\n",
       "</div>"
      ],
      "text/plain": [
       "  state  year productionRateBracketBOEperday classNumber oilWells  \\\n",
       "0    AK  2016                      A_  0 - 1           1       10   \n",
       "1    AK  2016                      B_  1 - 2           2        6   \n",
       "2    AK  2016                      C_  2 - 4           3       10   \n",
       "3    AK  2016                      D_  4 - 6           4       11   \n",
       "4    AK  2016                      E_  6 - 8           5       12   \n",
       "\n",
       "  percentageOilWells oilWellsAnnualOilProductionMMbbl  \\\n",
       "0               0.48                            0.001   \n",
       "1               0.29                            0.002   \n",
       "2               0.48                            0.006   \n",
       "3               0.53                            0.013   \n",
       "4               0.57                             0.02   \n",
       "\n",
       "  oilWellsPercentageofOilProduction oilWellsOilRatePerWellBBLperDay  \\\n",
       "0                                 0                           0.267   \n",
       "1                                 0                           1.215   \n",
       "2                                 0                           2.785   \n",
       "3                              0.01                           3.998   \n",
       "4                              0.01                           5.756   \n",
       "\n",
       "  oilWellsAnnualGasProdBCF         ...         gasWellsPercentageofGasWells  \\\n",
       "0                        0         ...                                 5.01   \n",
       "1                    0.003         ...                                 0.88   \n",
       "2                    0.006         ...                                 2.65   \n",
       "3                    0.018         ...                                 2.06   \n",
       "4                    0.023         ...                                 0.88   \n",
       "\n",
       "  gasWellsAnnualGasProdBCF gasWellsPercentageofGasProduction  \\\n",
       "0                     0.01                                 0   \n",
       "1                    0.008                                 0   \n",
       "2                    0.043                              0.01   \n",
       "3                    0.061                              0.02   \n",
       "4                    0.044                              0.01   \n",
       "\n",
       "  gasWellsGasRatePerWellMCFperDay gasWellsAnnualOilProdMMbbl  \\\n",
       "0                           2.175                          0   \n",
       "1                          10.949                          0   \n",
       "2                          17.449                      0.001   \n",
       "3                          27.434                      0.001   \n",
       "4                          39.673                      0.001   \n",
       "\n",
       "  gasWellsOilRatePerWellBBLperDay totalNumberofWells  \\\n",
       "0                               0                 27   \n",
       "1                               0                  9   \n",
       "2                           0.359                 19   \n",
       "3                           0.283                 18   \n",
       "4                            0.47                 15   \n",
       "\n",
       "  totalWellsAnnualOilProdMMbbl totalWellsAnnualProduction horizontalWellCount  \n",
       "0                        0.001                       0.01                   0  \n",
       "1                        0.002                      0.011                   0  \n",
       "2                        0.007                      0.049                   0  \n",
       "3                        0.013                       0.08                   1  \n",
       "4                        0.021                      0.067                   0  \n",
       "\n",
       "[5 rows x 22 columns]"
      ]
     },
     "execution_count": 5,
     "metadata": {},
     "output_type": "execute_result"
    }
   ],
   "source": [
    "# Use `dropna` to drop any rows where there is missing data\n",
    "# Notice that index has not been reset and contains a gap (0,2,5,6,7)\n",
    "df = df.dropna(axis=0)\n",
    "df.head()"
   ]
  },
  {
   "cell_type": "code",
   "execution_count": 6,
   "metadata": {
    "collapsed": true
   },
   "outputs": [],
   "source": [
    "# Save the cleaned data to a file called `customers_cleaned.csv`\n",
    "new_csv = \"wells_cleaned.csv\"\n",
    "df.to_csv(new_csv, index=False)"
   ]
  },
  {
   "cell_type": "markdown",
   "metadata": {},
   "source": [
    "# Database Creation"
   ]
  },
  {
   "cell_type": "code",
   "execution_count": 1,
   "metadata": {
    "collapsed": true
   },
   "outputs": [],
   "source": [
    "# Python SQL toolkit and Object Relational Mapper\n",
    "import sqlalchemy\n",
    "from sqlalchemy.ext.automap import automap_base\n",
    "from sqlalchemy import create_engine, MetaData\n",
    "from sqlalchemy.ext.declarative import declarative_base\n",
    "from sqlalchemy import Column, Integer, String, Numeric, Text, Float"
   ]
  },
  {
   "cell_type": "code",
   "execution_count": 2,
   "metadata": {},
   "outputs": [],
   "source": [
    "# Create an engine to a SQLite database file called `wells.sqlite`\n",
    "engine = create_engine(\"sqlite:///wells.sqlite\")"
   ]
  },
  {
   "cell_type": "code",
   "execution_count": 3,
   "metadata": {},
   "outputs": [],
   "source": [
    "Base = automap_base()"
   ]
  },
  {
   "cell_type": "code",
   "execution_count": 4,
   "metadata": {
    "collapsed": true
   },
   "outputs": [],
   "source": [
    "Base.prepare(engine, reflect=True)"
   ]
  },
  {
   "cell_type": "code",
   "execution_count": 5,
   "metadata": {},
   "outputs": [
    {
     "data": {
      "text/plain": [
       "[]"
      ]
     },
     "execution_count": 5,
     "metadata": {},
     "output_type": "execute_result"
    }
   ],
   "source": [
    "Base.classes.keys()"
   ]
  },
  {
   "cell_type": "code",
   "execution_count": 6,
   "metadata": {},
   "outputs": [
    {
     "name": "stdout",
     "output_type": "stream",
     "text": [
      "wells.sqlite\n"
     ]
    }
   ],
   "source": [
    "!ls *.sqlite"
   ]
  },
  {
   "cell_type": "code",
   "execution_count": 7,
   "metadata": {},
   "outputs": [
    {
     "data": {
      "text/plain": [
       "[]"
      ]
     },
     "execution_count": 7,
     "metadata": {},
     "output_type": "execute_result"
    }
   ],
   "source": [
    "engine.table_names()"
   ]
  },
  {
   "cell_type": "code",
   "execution_count": 8,
   "metadata": {
    "collapsed": true
   },
   "outputs": [],
   "source": [
    "# Fire up the inspector\n",
    "from sqlalchemy import inspect\n",
    "inspector = inspect(engine)"
   ]
  },
  {
   "cell_type": "code",
   "execution_count": 9,
   "metadata": {},
   "outputs": [
    {
     "data": {
      "text/plain": [
       "[]"
      ]
     },
     "execution_count": 9,
     "metadata": {},
     "output_type": "execute_result"
    }
   ],
   "source": [
    "inspector.get_table_names()"
   ]
  },
  {
   "cell_type": "code",
   "execution_count": null,
   "metadata": {
    "collapsed": true
   },
   "outputs": [],
   "source": []
  },
  {
   "cell_type": "code",
   "execution_count": 10,
   "metadata": {},
   "outputs": [
    {
     "ename": "AttributeError",
     "evalue": "wells",
     "output_type": "error",
     "traceback": [
      "\u001b[0;31m---------------------------------------------------------------------------\u001b[0m",
      "\u001b[0;31mKeyError\u001b[0m                                  Traceback (most recent call last)",
      "\u001b[0;32m~/anaconda3/lib/python3.6/site-packages/sqlalchemy/util/_collections.py\u001b[0m in \u001b[0;36m__getattr__\u001b[0;34m(self, key)\u001b[0m\n\u001b[1;32m    209\u001b[0m         \u001b[0;32mtry\u001b[0m\u001b[0;34m:\u001b[0m\u001b[0;34m\u001b[0m\u001b[0m\n\u001b[0;32m--> 210\u001b[0;31m             \u001b[0;32mreturn\u001b[0m \u001b[0mself\u001b[0m\u001b[0;34m.\u001b[0m\u001b[0m_data\u001b[0m\u001b[0;34m[\u001b[0m\u001b[0mkey\u001b[0m\u001b[0;34m]\u001b[0m\u001b[0;34m\u001b[0m\u001b[0m\n\u001b[0m\u001b[1;32m    211\u001b[0m         \u001b[0;32mexcept\u001b[0m \u001b[0mKeyError\u001b[0m\u001b[0;34m:\u001b[0m\u001b[0;34m\u001b[0m\u001b[0m\n",
      "\u001b[0;31mKeyError\u001b[0m: 'wells'",
      "\nDuring handling of the above exception, another exception occurred:\n",
      "\u001b[0;31mAttributeError\u001b[0m                            Traceback (most recent call last)",
      "\u001b[0;32m<ipython-input-10-7754b8481aaa>\u001b[0m in \u001b[0;36m<module>\u001b[0;34m()\u001b[0m\n\u001b[0;32m----> 1\u001b[0;31m \u001b[0mwell\u001b[0m \u001b[0;34m=\u001b[0m \u001b[0mBase\u001b[0m\u001b[0;34m.\u001b[0m\u001b[0mclasses\u001b[0m\u001b[0;34m.\u001b[0m\u001b[0mwells\u001b[0m\u001b[0;34m\u001b[0m\u001b[0m\n\u001b[0m",
      "\u001b[0;32m~/anaconda3/lib/python3.6/site-packages/sqlalchemy/util/_collections.py\u001b[0m in \u001b[0;36m__getattr__\u001b[0;34m(self, key)\u001b[0m\n\u001b[1;32m    210\u001b[0m             \u001b[0;32mreturn\u001b[0m \u001b[0mself\u001b[0m\u001b[0;34m.\u001b[0m\u001b[0m_data\u001b[0m\u001b[0;34m[\u001b[0m\u001b[0mkey\u001b[0m\u001b[0;34m]\u001b[0m\u001b[0;34m\u001b[0m\u001b[0m\n\u001b[1;32m    211\u001b[0m         \u001b[0;32mexcept\u001b[0m \u001b[0mKeyError\u001b[0m\u001b[0;34m:\u001b[0m\u001b[0;34m\u001b[0m\u001b[0m\n\u001b[0;32m--> 212\u001b[0;31m             \u001b[0;32mraise\u001b[0m \u001b[0mAttributeError\u001b[0m\u001b[0;34m(\u001b[0m\u001b[0mkey\u001b[0m\u001b[0;34m)\u001b[0m\u001b[0;34m\u001b[0m\u001b[0m\n\u001b[0m\u001b[1;32m    213\u001b[0m \u001b[0;34m\u001b[0m\u001b[0m\n\u001b[1;32m    214\u001b[0m     \u001b[0;32mdef\u001b[0m \u001b[0m__contains__\u001b[0m\u001b[0;34m(\u001b[0m\u001b[0mself\u001b[0m\u001b[0;34m,\u001b[0m \u001b[0mkey\u001b[0m\u001b[0;34m)\u001b[0m\u001b[0;34m:\u001b[0m\u001b[0;34m\u001b[0m\u001b[0m\n",
      "\u001b[0;31mAttributeError\u001b[0m: wells"
     ]
    }
   ],
   "source": [
    "well = Base.classes.wells"
   ]
  },
  {
   "cell_type": "code",
   "execution_count": 17,
   "metadata": {
    "collapsed": true
   },
   "outputs": [],
   "source": [
    "# Create a connection to the engine called `conn`\n",
    "conn = engine.connect()"
   ]
  },
  {
   "cell_type": "code",
   "execution_count": 40,
   "metadata": {},
   "outputs": [],
   "source": [
    "# Use `declarative_base` from SQLAlchemy to model the demographics table as an ORM class\n",
    "# Make sure to specify types for each column, e.g. Integer, Text, etc.\n",
    "# http://docs.sqlalchemy.org/en/latest/core/type_basics.html\n",
    "Base = declarative_base()\n",
    "\n",
    "class Well(Base):\n",
    "    __tablename__ = 'wells'\n",
    "\n",
    "    id = Column(Integer, primary_key=True)\n",
    "    state = Column(Text)\n",
    "    year = Column(Integer)\n",
    "    productionRateBracketBOEperday = Column(Text)\n",
    "    classNumber = Column(Float)\n",
    "    oilWells = Column(Integer)\n",
    "    percentageOilWells = Column(Float)\n",
    "    oilWellsAnnualOilProductionMMbbl = Column(Float)\n",
    "    oilWellsPercentageofOilProduction = Column(Float)\n",
    "    oilWellsOilRatePerWellBBLperDay  = Column(Float)\n",
    "    oilWellsAnnualGasProdBCF = Column(Float)\n",
    "    oilWellsGasRatePerWellMCFperDay  = Column(Float)\n",
    "    numberofGasWells = Column(Integer)\n",
    "    gasWellsPercentageofGasWells= Column(Float)\n",
    "    gasWellsAnnualGasProdBCF = Column(Float)\n",
    "    gasWellsPercentageofGasProduction = Column(Float)\n",
    "    gasWellsGasRatePerWellMCFperDay = Column(Float)\n",
    "    gasWellsAnnualOilProdMMbbl = Column(Float)\n",
    "    gasWellsOilRatePerWellBBLperDay = Column(Float)\n",
    "    totalNumberofWells = Column(Integer)\n",
    "    totalWellsAnnualOilProdMMbbl  = Column(Float)\n",
    "    totalWellsAnnualProduction = Column(Float)\n",
    "    horizontalWellCount = Column(Integer)\n",
    "   \n",
    "    def __repr__(self):\n",
    "        return f\"id={self.id}, name={self.state}\"\n",
    "    \n",
    "class State(Base):\n",
    "    __tablename__ = 'abbreviations'\n",
    "\n",
    "    id = Column(Integer, primary_key=True)\n",
    "    abbreviation = Column(Text)\n",
    "    state = Column(Text)\n",
    "    \n",
    "    def __repr__(self):\n",
    "        return f\"id={self.id}, name={self.state}\"\n",
    "# More on __repr__: https://stackoverflow.com/questions/1984162/purpose-of-pythons-repr    "
   ]
  },
  {
   "cell_type": "code",
   "execution_count": 41,
   "metadata": {
    "collapsed": true
   },
   "outputs": [],
   "source": [
    "# Use `create_all` to create the customers table in the database\n",
    "Base.metadata.create_all(engine)"
   ]
  },
  {
   "cell_type": "code",
   "execution_count": 20,
   "metadata": {
    "collapsed": true
   },
   "outputs": [],
   "source": [
    "# Load the cleaned csv file into a pandas dataframe\n",
    "new_df = pd.read_csv(new_csv)"
   ]
  },
  {
   "cell_type": "code",
   "execution_count": 21,
   "metadata": {
    "collapsed": true
   },
   "outputs": [],
   "source": [
    "# Use Orient='records' to create a list of data to write\n",
    "# to_dict() cleans out DataFrame metadata as well\n",
    "# http://pandas-docs.github.io/pandas-docs-travis/io.html#orient-options\n",
    "data = new_df.to_dict(orient='records')"
   ]
  },
  {
   "cell_type": "code",
   "execution_count": 43,
   "metadata": {
    "collapsed": true
   },
   "outputs": [],
   "source": [
    "statedata = states.to_dict(orient='records')"
   ]
  },
  {
   "cell_type": "code",
   "execution_count": 22,
   "metadata": {},
   "outputs": [
    {
     "name": "stdout",
     "output_type": "stream",
     "text": [
      "[{'state': 'AK', 'year': 2016, 'productionRateBracketBOEperday': 'A_  0 - 1', 'classNumber': 1.0, 'oilWells': 10, 'percentageOilWells': 0.48, 'oilWellsAnnualOilProductionMMbbl': 0.001, 'oilWellsPercentageofOilProduction': 0.0, 'oilWellsOilRatePerWellBBLperDay': 0.267, 'oilWellsAnnualGasProdBCF': 0.0, 'oilWellsGasRatePerWellMCFperDay': 0.0, 'numberofGasWells': 17, 'gasWellsPercentageofGasWells': 5.01, 'gasWellsAnnualGasProdBCF': 0.01, 'gasWellsPercentageofGasProduction': 0.0, 'gasWellsGasRatePerWellMCFperDay': 2.175, 'gasWellsAnnualOilProdMMbbl': 0.0, 'gasWellsOilRatePerWellBBLperDay': 0.0, 'totalNumberofWells': 27, 'totalWellsAnnualOilProdMMbbl': 0.001, 'totalWellsAnnualProduction': 0.01, 'horizontalWellCount': 0}, {'state': 'AK', 'year': 2016, 'productionRateBracketBOEperday': 'B_  1 - 2', 'classNumber': 2.0, 'oilWells': 6, 'percentageOilWells': 0.29, 'oilWellsAnnualOilProductionMMbbl': 0.002, 'oilWellsPercentageofOilProduction': 0.0, 'oilWellsOilRatePerWellBBLperDay': 1.215, 'oilWellsAnnualGasProdBCF': 0.003, 'oilWellsGasRatePerWellMCFperDay': 2.285, 'numberofGasWells': 3, 'gasWellsPercentageofGasWells': 0.88, 'gasWellsAnnualGasProdBCF': 0.008, 'gasWellsPercentageofGasProduction': 0.0, 'gasWellsGasRatePerWellMCFperDay': 10.949000000000002, 'gasWellsAnnualOilProdMMbbl': 0.0, 'gasWellsOilRatePerWellBBLperDay': 0.0, 'totalNumberofWells': 9, 'totalWellsAnnualOilProdMMbbl': 0.002, 'totalWellsAnnualProduction': 0.011000000000000001, 'horizontalWellCount': 0}, {'state': 'AK', 'year': 2016, 'productionRateBracketBOEperday': 'C_  2 - 4', 'classNumber': 3.0, 'oilWells': 10, 'percentageOilWells': 0.48, 'oilWellsAnnualOilProductionMMbbl': 0.006, 'oilWellsPercentageofOilProduction': 0.0, 'oilWellsOilRatePerWellBBLperDay': 2.785, 'oilWellsAnnualGasProdBCF': 0.006, 'oilWellsGasRatePerWellMCFperDay': 2.491, 'numberofGasWells': 9, 'gasWellsPercentageofGasWells': 2.65, 'gasWellsAnnualGasProdBCF': 0.043, 'gasWellsPercentageofGasProduction': 0.01, 'gasWellsGasRatePerWellMCFperDay': 17.449, 'gasWellsAnnualOilProdMMbbl': 0.001, 'gasWellsOilRatePerWellBBLperDay': 0.359, 'totalNumberofWells': 19, 'totalWellsAnnualOilProdMMbbl': 0.006999999999999999, 'totalWellsAnnualProduction': 0.049, 'horizontalWellCount': 0}, {'state': 'AK', 'year': 2016, 'productionRateBracketBOEperday': 'D_  4 - 6', 'classNumber': 4.0, 'oilWells': 11, 'percentageOilWells': 0.53, 'oilWellsAnnualOilProductionMMbbl': 0.013000000000000001, 'oilWellsPercentageofOilProduction': 0.01, 'oilWellsOilRatePerWellBBLperDay': 3.998, 'oilWellsAnnualGasProdBCF': 0.018000000000000002, 'oilWellsGasRatePerWellMCFperDay': 5.86, 'numberofGasWells': 7, 'gasWellsPercentageofGasWells': 2.06, 'gasWellsAnnualGasProdBCF': 0.061, 'gasWellsPercentageofGasProduction': 0.02, 'gasWellsGasRatePerWellMCFperDay': 27.434, 'gasWellsAnnualOilProdMMbbl': 0.001, 'gasWellsOilRatePerWellBBLperDay': 0.28300000000000003, 'totalNumberofWells': 18, 'totalWellsAnnualOilProdMMbbl': 0.013000000000000001, 'totalWellsAnnualProduction': 0.08, 'horizontalWellCount': 1}, {'state': 'AK', 'year': 2016, 'productionRateBracketBOEperday': 'E_  6 - 8', 'classNumber': 5.0, 'oilWells': 12, 'percentageOilWells': 0.57, 'oilWellsAnnualOilProductionMMbbl': 0.02, 'oilWellsPercentageofOilProduction': 0.01, 'oilWellsOilRatePerWellBBLperDay': 5.756, 'oilWellsAnnualGasProdBCF': 0.023, 'oilWellsGasRatePerWellMCFperDay': 6.586, 'numberofGasWells': 3, 'gasWellsPercentageofGasWells': 0.88, 'gasWellsAnnualGasProdBCF': 0.044000000000000004, 'gasWellsPercentageofGasProduction': 0.01, 'gasWellsGasRatePerWellMCFperDay': 39.673, 'gasWellsAnnualOilProdMMbbl': 0.001, 'gasWellsOilRatePerWellBBLperDay': 0.47, 'totalNumberofWells': 15, 'totalWellsAnnualOilProdMMbbl': 0.021, 'totalWellsAnnualProduction': 0.067, 'horizontalWellCount': 0}]\n"
     ]
    }
   ],
   "source": [
    "# Data is just a list of dictionaries that represent each row of data\n",
    "print(data[:5])"
   ]
  },
  {
   "cell_type": "code",
   "execution_count": 23,
   "metadata": {
    "collapsed": true
   },
   "outputs": [],
   "source": [
    "# Use MetaData from SQLAlchemy to reflect the tables\n",
    "metadata = MetaData(bind=engine)\n",
    "metadata.reflect()"
   ]
  },
  {
   "cell_type": "code",
   "execution_count": 24,
   "metadata": {},
   "outputs": [],
   "source": [
    "# Save the reference to the `customers` table as a variable called `table`\n",
    "table = sqlalchemy.Table('wells', metadata, autoload=True)"
   ]
  },
  {
   "cell_type": "code",
   "execution_count": 42,
   "metadata": {
    "collapsed": true
   },
   "outputs": [],
   "source": [
    "stateTable = sqlalchemy.Table('abbreviations', metadata, autoload=True)"
   ]
  },
  {
   "cell_type": "code",
   "execution_count": 25,
   "metadata": {},
   "outputs": [
    {
     "data": {
      "text/plain": [
       "<sqlalchemy.engine.result.ResultProxy at 0x22576bcbfd0>"
      ]
     },
     "execution_count": 25,
     "metadata": {},
     "output_type": "execute_result"
    }
   ],
   "source": [
    "# Use `table.delete()` to remove any pre-existing data.\n",
    "# Note that this is a convenience function so that you can re-run the example code multiple times.\n",
    "# You would not likely do this step in production.\n",
    "conn.execute(table.delete())"
   ]
  },
  {
   "cell_type": "code",
   "execution_count": 26,
   "metadata": {},
   "outputs": [
    {
     "data": {
      "text/plain": [
       "<sqlalchemy.engine.result.ResultProxy at 0x22576f77128>"
      ]
     },
     "execution_count": 26,
     "metadata": {},
     "output_type": "execute_result"
    }
   ],
   "source": [
    "# Use `table.insert()` to insert the data into the table\n",
    "# The SQL table is populated during this step\n",
    "conn.execute(table.insert(), data)"
   ]
  },
  {
   "cell_type": "code",
   "execution_count": 44,
   "metadata": {},
   "outputs": [
    {
     "data": {
      "text/plain": [
       "<sqlalchemy.engine.result.ResultProxy at 0x22577c58d30>"
      ]
     },
     "execution_count": 44,
     "metadata": {},
     "output_type": "execute_result"
    }
   ],
   "source": [
    "conn.execute(stateTable.insert(), data)"
   ]
  },
  {
   "cell_type": "code",
   "execution_count": 27,
   "metadata": {},
   "outputs": [
    {
     "data": {
      "text/plain": [
       "[(1, 'AK', 2016, 'A_  0 - 1', 1.0, 10, 0.48, 0.001, 0.0, 0.267, 0.0, 0.0, 17, 5.01, 0.01, 0.0, 2.175, 0.0, 0.0, 27, 0.001, 0.01, 0),\n",
       " (2, 'AK', 2016, 'B_  1 - 2', 2.0, 6, 0.29, 0.002, 0.0, 1.215, 0.003, 2.285, 3, 0.88, 0.008, 0.0, 10.949000000000002, 0.0, 0.0, 9, 0.002, 0.011000000000000001, 0),\n",
       " (3, 'AK', 2016, 'C_  2 - 4', 3.0, 10, 0.48, 0.006, 0.0, 2.785, 0.006, 2.491, 9, 2.65, 0.043, 0.01, 17.449, 0.001, 0.359, 19, 0.006999999999999999, 0.049, 0),\n",
       " (4, 'AK', 2016, 'D_  4 - 6', 4.0, 11, 0.53, 0.013000000000000001, 0.01, 3.998, 0.018000000000000002, 5.86, 7, 2.06, 0.061, 0.02, 27.434, 0.001, 0.28300000000000003, 18, 0.013000000000000001, 0.08, 1),\n",
       " (5, 'AK', 2016, 'E_  6 - 8', 5.0, 12, 0.57, 0.02, 0.01, 5.756, 0.023, 6.586, 3, 0.88, 0.044000000000000004, 0.01, 39.673, 0.001, 0.47, 15, 0.021, 0.067, 0)]"
      ]
     },
     "execution_count": 27,
     "metadata": {},
     "output_type": "execute_result"
    }
   ],
   "source": [
    "# Test that the insert works by fetching the first 5 rows. \n",
    "conn.execute(\"select * from wells limit 5\").fetchall()"
   ]
  },
  {
   "cell_type": "code",
   "execution_count": 28,
   "metadata": {},
   "outputs": [
    {
     "data": {
      "text/plain": [
       "[{'autoincrement': 'auto',\n",
       "  'default': None,\n",
       "  'name': 'id',\n",
       "  'nullable': False,\n",
       "  'primary_key': 1,\n",
       "  'type': INTEGER()},\n",
       " {'autoincrement': 'auto',\n",
       "  'default': None,\n",
       "  'name': 'state',\n",
       "  'nullable': True,\n",
       "  'primary_key': 0,\n",
       "  'type': TEXT()},\n",
       " {'autoincrement': 'auto',\n",
       "  'default': None,\n",
       "  'name': 'year',\n",
       "  'nullable': True,\n",
       "  'primary_key': 0,\n",
       "  'type': INTEGER()},\n",
       " {'autoincrement': 'auto',\n",
       "  'default': None,\n",
       "  'name': 'productionRateBracketBOEperday',\n",
       "  'nullable': True,\n",
       "  'primary_key': 0,\n",
       "  'type': TEXT()},\n",
       " {'autoincrement': 'auto',\n",
       "  'default': None,\n",
       "  'name': 'classNumber',\n",
       "  'nullable': True,\n",
       "  'primary_key': 0,\n",
       "  'type': FLOAT()},\n",
       " {'autoincrement': 'auto',\n",
       "  'default': None,\n",
       "  'name': 'oilWells',\n",
       "  'nullable': True,\n",
       "  'primary_key': 0,\n",
       "  'type': INTEGER()},\n",
       " {'autoincrement': 'auto',\n",
       "  'default': None,\n",
       "  'name': 'percentageOilWells',\n",
       "  'nullable': True,\n",
       "  'primary_key': 0,\n",
       "  'type': FLOAT()},\n",
       " {'autoincrement': 'auto',\n",
       "  'default': None,\n",
       "  'name': 'oilWellsAnnualOilProductionMMbbl',\n",
       "  'nullable': True,\n",
       "  'primary_key': 0,\n",
       "  'type': FLOAT()},\n",
       " {'autoincrement': 'auto',\n",
       "  'default': None,\n",
       "  'name': 'oilWellsPercentageofOilProduction',\n",
       "  'nullable': True,\n",
       "  'primary_key': 0,\n",
       "  'type': FLOAT()},\n",
       " {'autoincrement': 'auto',\n",
       "  'default': None,\n",
       "  'name': 'oilWellsOilRatePerWellBBLperDay',\n",
       "  'nullable': True,\n",
       "  'primary_key': 0,\n",
       "  'type': FLOAT()},\n",
       " {'autoincrement': 'auto',\n",
       "  'default': None,\n",
       "  'name': 'oilWellsAnnualGasProdBCF',\n",
       "  'nullable': True,\n",
       "  'primary_key': 0,\n",
       "  'type': FLOAT()},\n",
       " {'autoincrement': 'auto',\n",
       "  'default': None,\n",
       "  'name': 'oilWellsGasRatePerWellMCFperDay',\n",
       "  'nullable': True,\n",
       "  'primary_key': 0,\n",
       "  'type': FLOAT()},\n",
       " {'autoincrement': 'auto',\n",
       "  'default': None,\n",
       "  'name': 'numberofGasWells',\n",
       "  'nullable': True,\n",
       "  'primary_key': 0,\n",
       "  'type': INTEGER()},\n",
       " {'autoincrement': 'auto',\n",
       "  'default': None,\n",
       "  'name': 'gasWellsPercentageofGasWells',\n",
       "  'nullable': True,\n",
       "  'primary_key': 0,\n",
       "  'type': FLOAT()},\n",
       " {'autoincrement': 'auto',\n",
       "  'default': None,\n",
       "  'name': 'gasWellsAnnualGasProdBCF',\n",
       "  'nullable': True,\n",
       "  'primary_key': 0,\n",
       "  'type': FLOAT()},\n",
       " {'autoincrement': 'auto',\n",
       "  'default': None,\n",
       "  'name': 'gasWellsPercentageofGasProduction',\n",
       "  'nullable': True,\n",
       "  'primary_key': 0,\n",
       "  'type': FLOAT()},\n",
       " {'autoincrement': 'auto',\n",
       "  'default': None,\n",
       "  'name': 'gasWellsGasRatePerWellMCFperDay',\n",
       "  'nullable': True,\n",
       "  'primary_key': 0,\n",
       "  'type': FLOAT()},\n",
       " {'autoincrement': 'auto',\n",
       "  'default': None,\n",
       "  'name': 'gasWellsAnnualOilProdMMbbl',\n",
       "  'nullable': True,\n",
       "  'primary_key': 0,\n",
       "  'type': FLOAT()},\n",
       " {'autoincrement': 'auto',\n",
       "  'default': None,\n",
       "  'name': 'gasWellsOilRatePerWellBBLperDay',\n",
       "  'nullable': True,\n",
       "  'primary_key': 0,\n",
       "  'type': FLOAT()},\n",
       " {'autoincrement': 'auto',\n",
       "  'default': None,\n",
       "  'name': 'totalNumberofWells',\n",
       "  'nullable': True,\n",
       "  'primary_key': 0,\n",
       "  'type': INTEGER()},\n",
       " {'autoincrement': 'auto',\n",
       "  'default': None,\n",
       "  'name': 'totalWellsAnnualOilProdMMbbl',\n",
       "  'nullable': True,\n",
       "  'primary_key': 0,\n",
       "  'type': FLOAT()},\n",
       " {'autoincrement': 'auto',\n",
       "  'default': None,\n",
       "  'name': 'totalWellsAnnualProduction',\n",
       "  'nullable': True,\n",
       "  'primary_key': 0,\n",
       "  'type': FLOAT()},\n",
       " {'autoincrement': 'auto',\n",
       "  'default': None,\n",
       "  'name': 'horizontalWellCount',\n",
       "  'nullable': True,\n",
       "  'primary_key': 0,\n",
       "  'type': INTEGER()}]"
      ]
     },
     "execution_count": 28,
     "metadata": {},
     "output_type": "execute_result"
    }
   ],
   "source": [
    "inspector.get_columns('wells')"
   ]
  },
  {
   "cell_type": "code",
   "execution_count": 45,
   "metadata": {},
   "outputs": [
    {
     "data": {
      "text/plain": [
       "[{'autoincrement': 'auto',\n",
       "  'default': None,\n",
       "  'name': 'id',\n",
       "  'nullable': False,\n",
       "  'primary_key': 1,\n",
       "  'type': INTEGER()},\n",
       " {'autoincrement': 'auto',\n",
       "  'default': None,\n",
       "  'name': 'abbreviation',\n",
       "  'nullable': True,\n",
       "  'primary_key': 0,\n",
       "  'type': TEXT()},\n",
       " {'autoincrement': 'auto',\n",
       "  'default': None,\n",
       "  'name': 'state',\n",
       "  'nullable': True,\n",
       "  'primary_key': 0,\n",
       "  'type': TEXT()}]"
      ]
     },
     "execution_count": 45,
     "metadata": {},
     "output_type": "execute_result"
    }
   ],
   "source": [
    "inspector.get_columns('abbreviations')"
   ]
  },
  {
   "cell_type": "code",
   "execution_count": 51,
   "metadata": {},
   "outputs": [
    {
     "data": {
      "text/html": [
       "<div>\n",
       "<style>\n",
       "    .dataframe thead tr:only-child th {\n",
       "        text-align: right;\n",
       "    }\n",
       "\n",
       "    .dataframe thead th {\n",
       "        text-align: left;\n",
       "    }\n",
       "\n",
       "    .dataframe tbody tr th {\n",
       "        vertical-align: top;\n",
       "    }\n",
       "</style>\n",
       "<table border=\"1\" class=\"dataframe\">\n",
       "  <thead>\n",
       "    <tr style=\"text-align: right;\">\n",
       "      <th></th>\n",
       "      <th>state</th>\n",
       "      <th>year</th>\n",
       "      <th>classNumber</th>\n",
       "      <th>horizontalWellCount</th>\n",
       "    </tr>\n",
       "  </thead>\n",
       "  <tbody>\n",
       "    <tr>\n",
       "      <th>0</th>\n",
       "      <td>AK</td>\n",
       "      <td>2016</td>\n",
       "      <td>23.0</td>\n",
       "      <td>14</td>\n",
       "    </tr>\n",
       "    <tr>\n",
       "      <th>1</th>\n",
       "      <td>AL</td>\n",
       "      <td>2016</td>\n",
       "      <td>23.0</td>\n",
       "      <td>23</td>\n",
       "    </tr>\n",
       "    <tr>\n",
       "      <th>2</th>\n",
       "      <td>AR</td>\n",
       "      <td>2016</td>\n",
       "      <td>23.0</td>\n",
       "      <td>5585</td>\n",
       "    </tr>\n",
       "    <tr>\n",
       "      <th>3</th>\n",
       "      <td>AZ</td>\n",
       "      <td>2016</td>\n",
       "      <td>23.0</td>\n",
       "      <td>0</td>\n",
       "    </tr>\n",
       "    <tr>\n",
       "      <th>4</th>\n",
       "      <td>CA</td>\n",
       "      <td>2016</td>\n",
       "      <td>23.0</td>\n",
       "      <td>1697</td>\n",
       "    </tr>\n",
       "  </tbody>\n",
       "</table>\n",
       "</div>"
      ],
      "text/plain": [
       "  state  year  classNumber  horizontalWellCount\n",
       "0    AK  2016         23.0                   14\n",
       "1    AL  2016         23.0                   23\n",
       "2    AR  2016         23.0                 5585\n",
       "3    AZ  2016         23.0                    0\n",
       "4    CA  2016         23.0                 1697"
      ]
     },
     "execution_count": 51,
     "metadata": {},
     "output_type": "execute_result"
    }
   ],
   "source": [
    "sql = \"select state, year, classNumber, horizontalWellCount from wells where classNumber = 23 and year = 2016\"\n",
    "df = pd.read_sql(sql, conn)\n",
    "df.head()"
   ]
  },
  {
   "cell_type": "code",
   "execution_count": null,
   "metadata": {
    "collapsed": true
   },
   "outputs": [],
   "source": []
  }
 ],
 "metadata": {
  "kernelspec": {
   "display_name": "Python 3",
   "language": "python",
   "name": "python3"
  },
  "language_info": {
   "codemirror_mode": {
    "name": "ipython",
    "version": 3
   },
   "file_extension": ".py",
   "mimetype": "text/x-python",
   "name": "python",
   "nbconvert_exporter": "python",
   "pygments_lexer": "ipython3",
   "version": "3.6.4"
  },
  "nteract": {
   "version": "0.2.0"
  },
  "varInspector": {
   "cols": {
    "lenName": 16,
    "lenType": 16,
    "lenVar": 40
   },
   "kernels_config": {
    "python": {
     "delete_cmd_postfix": "",
     "delete_cmd_prefix": "del ",
     "library": "var_list.py",
     "varRefreshCmd": "print(var_dic_list())"
    },
    "r": {
     "delete_cmd_postfix": ") ",
     "delete_cmd_prefix": "rm(",
     "library": "var_list.r",
     "varRefreshCmd": "cat(var_dic_list()) "
    }
   },
   "types_to_exclude": [
    "module",
    "function",
    "builtin_function_or_method",
    "instance",
    "_Feature"
   ],
   "window_display": false
  }
 },
 "nbformat": 4,
 "nbformat_minor": 2
}
