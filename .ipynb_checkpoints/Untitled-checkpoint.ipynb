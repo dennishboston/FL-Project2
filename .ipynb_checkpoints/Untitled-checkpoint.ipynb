{
 "cells": [
  {
   "cell_type": "code",
   "execution_count": 1,
   "metadata": {},
   "outputs": [],
   "source": [
    "# import necessary libraries\n",
    "import numpy as np\n",
    "\n",
    "from sqlalchemy.ext.automap import automap_base\n",
    "from sqlalchemy.orm import Session\n",
    "from sqlalchemy import create_engine, func\n",
    "\n",
    "from flask import (\n",
    "    Flask,\n",
    "    render_template,\n",
    "    jsonify,\n",
    "    request,\n",
    "    redirect)\n",
    "\n",
    "#################################################\n",
    "# Flask Setup\n",
    "#################################################\n",
    "app = Flask(__name__)\n",
    "   \n",
    "#################################################\n",
    "# Database Setup\n",
    "#################################################\n",
    "import pandas as pd\n",
    "import sqlite3\n",
    "\n",
    "conn = sqlite3.connect(\"data/flp2data.sqlite\")"
   ]
  },
  {
   "cell_type": "code",
   "execution_count": 2,
   "metadata": {},
   "outputs": [],
   "source": [
    "#Create Dataframes\n",
    "income_df = pd.read_sql_query(\"select * from income;\", conn)"
   ]
  },
  {
   "cell_type": "code",
   "execution_count": 4,
   "metadata": {},
   "outputs": [],
   "source": [
    "home_df = pd.read_sql_query(\"select * from homeprice;\", conn)"
   ]
  },
  {
   "cell_type": "code",
   "execution_count": 5,
   "metadata": {},
   "outputs": [
    {
     "data": {
      "text/html": [
       "<div>\n",
       "<style scoped>\n",
       "    .dataframe tbody tr th:only-of-type {\n",
       "        vertical-align: middle;\n",
       "    }\n",
       "\n",
       "    .dataframe tbody tr th {\n",
       "        vertical-align: top;\n",
       "    }\n",
       "\n",
       "    .dataframe thead th {\n",
       "        text-align: right;\n",
       "    }\n",
       "</style>\n",
       "<table border=\"1\" class=\"dataframe\">\n",
       "  <thead>\n",
       "    <tr style=\"text-align: right;\">\n",
       "      <th></th>\n",
       "      <th>id</th>\n",
       "      <th>state</th>\n",
       "      <th>abbr</th>\n",
       "      <th>mhp_09</th>\n",
       "      <th>mhp_10</th>\n",
       "      <th>mhp_11</th>\n",
       "      <th>mhp_12</th>\n",
       "      <th>mhp_13</th>\n",
       "      <th>mhp_14</th>\n",
       "      <th>mhp_15</th>\n",
       "      <th>mhp_16</th>\n",
       "    </tr>\n",
       "  </thead>\n",
       "  <tbody>\n",
       "    <tr>\n",
       "      <th>0</th>\n",
       "      <td>1</td>\n",
       "      <td>Alabama</td>\n",
       "      <td>AL</td>\n",
       "      <td>111900</td>\n",
       "      <td>117600</td>\n",
       "      <td>120800</td>\n",
       "      <td>122300</td>\n",
       "      <td>122500</td>\n",
       "      <td>123800</td>\n",
       "      <td>125500</td>\n",
       "      <td>128500</td>\n",
       "    </tr>\n",
       "    <tr>\n",
       "      <th>1</th>\n",
       "      <td>2</td>\n",
       "      <td>Alaska</td>\n",
       "      <td>AK</td>\n",
       "      <td>221300</td>\n",
       "      <td>229100</td>\n",
       "      <td>235100</td>\n",
       "      <td>237900</td>\n",
       "      <td>241800</td>\n",
       "      <td>246300</td>\n",
       "      <td>250000</td>\n",
       "      <td>257100</td>\n",
       "    </tr>\n",
       "    <tr>\n",
       "      <th>2</th>\n",
       "      <td>3</td>\n",
       "      <td>Arizona</td>\n",
       "      <td>AZ</td>\n",
       "      <td>218400</td>\n",
       "      <td>215000</td>\n",
       "      <td>197400</td>\n",
       "      <td>175900</td>\n",
       "      <td>165100</td>\n",
       "      <td>162900</td>\n",
       "      <td>167500</td>\n",
       "      <td>176900</td>\n",
       "    </tr>\n",
       "    <tr>\n",
       "      <th>3</th>\n",
       "      <td>4</td>\n",
       "      <td>Arkansas</td>\n",
       "      <td>AR</td>\n",
       "      <td>97200</td>\n",
       "      <td>102300</td>\n",
       "      <td>105100</td>\n",
       "      <td>106300</td>\n",
       "      <td>107300</td>\n",
       "      <td>108700</td>\n",
       "      <td>111400</td>\n",
       "      <td>114700</td>\n",
       "    </tr>\n",
       "    <tr>\n",
       "      <th>4</th>\n",
       "      <td>5</td>\n",
       "      <td>California</td>\n",
       "      <td>CA</td>\n",
       "      <td>479200</td>\n",
       "      <td>458500</td>\n",
       "      <td>421600</td>\n",
       "      <td>383900</td>\n",
       "      <td>366400</td>\n",
       "      <td>371400</td>\n",
       "      <td>385500</td>\n",
       "      <td>409300</td>\n",
       "    </tr>\n",
       "  </tbody>\n",
       "</table>\n",
       "</div>"
      ],
      "text/plain": [
       "   id       state abbr  mhp_09  mhp_10  mhp_11  mhp_12  mhp_13  mhp_14  \\\n",
       "0   1     Alabama   AL  111900  117600  120800  122300  122500  123800   \n",
       "1   2      Alaska   AK  221300  229100  235100  237900  241800  246300   \n",
       "2   3     Arizona   AZ  218400  215000  197400  175900  165100  162900   \n",
       "3   4    Arkansas   AR   97200  102300  105100  106300  107300  108700   \n",
       "4   5  California   CA  479200  458500  421600  383900  366400  371400   \n",
       "\n",
       "   mhp_15  mhp_16  \n",
       "0  125500  128500  \n",
       "1  250000  257100  \n",
       "2  167500  176900  \n",
       "3  111400  114700  \n",
       "4  385500  409300  "
      ]
     },
     "execution_count": 5,
     "metadata": {},
     "output_type": "execute_result"
    }
   ],
   "source": [
    "home_df.head()"
   ]
  },
  {
   "cell_type": "code",
   "execution_count": 6,
   "metadata": {},
   "outputs": [
    {
     "data": {
      "text/html": [
       "<div>\n",
       "<style scoped>\n",
       "    .dataframe tbody tr th:only-of-type {\n",
       "        vertical-align: middle;\n",
       "    }\n",
       "\n",
       "    .dataframe tbody tr th {\n",
       "        vertical-align: top;\n",
       "    }\n",
       "\n",
       "    .dataframe thead th {\n",
       "        text-align: right;\n",
       "    }\n",
       "</style>\n",
       "<table border=\"1\" class=\"dataframe\">\n",
       "  <thead>\n",
       "    <tr style=\"text-align: right;\">\n",
       "      <th></th>\n",
       "      <th>id</th>\n",
       "      <th>state</th>\n",
       "      <th>abbr</th>\n",
       "      <th>mhi_09</th>\n",
       "      <th>mhi_10</th>\n",
       "      <th>mhi_11</th>\n",
       "      <th>mhi_12</th>\n",
       "      <th>mhi_13</th>\n",
       "      <th>mhi_14</th>\n",
       "      <th>mhi_15</th>\n",
       "      <th>mhi_16</th>\n",
       "    </tr>\n",
       "  </thead>\n",
       "  <tbody>\n",
       "    <tr>\n",
       "      <th>0</th>\n",
       "      <td>1</td>\n",
       "      <td>Alabama</td>\n",
       "      <td>AL</td>\n",
       "      <td>41216</td>\n",
       "      <td>42081</td>\n",
       "      <td>42934</td>\n",
       "      <td>43160</td>\n",
       "      <td>43253</td>\n",
       "      <td>43511</td>\n",
       "      <td>43623</td>\n",
       "      <td>44758</td>\n",
       "    </tr>\n",
       "    <tr>\n",
       "      <th>1</th>\n",
       "      <td>2</td>\n",
       "      <td>Alaska</td>\n",
       "      <td>AK</td>\n",
       "      <td>64635</td>\n",
       "      <td>66521</td>\n",
       "      <td>69014</td>\n",
       "      <td>69917</td>\n",
       "      <td>70760</td>\n",
       "      <td>71829</td>\n",
       "      <td>72515</td>\n",
       "      <td>74444</td>\n",
       "    </tr>\n",
       "    <tr>\n",
       "      <th>2</th>\n",
       "      <td>3</td>\n",
       "      <td>Arizona</td>\n",
       "      <td>AZ</td>\n",
       "      <td>50296</td>\n",
       "      <td>50448</td>\n",
       "      <td>50752</td>\n",
       "      <td>50256</td>\n",
       "      <td>49774</td>\n",
       "      <td>49928</td>\n",
       "      <td>50255</td>\n",
       "      <td>51340</td>\n",
       "    </tr>\n",
       "    <tr>\n",
       "      <th>3</th>\n",
       "      <td>4</td>\n",
       "      <td>Arkansas</td>\n",
       "      <td>AR</td>\n",
       "      <td>38542</td>\n",
       "      <td>39267</td>\n",
       "      <td>40149</td>\n",
       "      <td>40531</td>\n",
       "      <td>40768</td>\n",
       "      <td>41264</td>\n",
       "      <td>41371</td>\n",
       "      <td>42336</td>\n",
       "    </tr>\n",
       "    <tr>\n",
       "      <th>4</th>\n",
       "      <td>5</td>\n",
       "      <td>California</td>\n",
       "      <td>CA</td>\n",
       "      <td>60392</td>\n",
       "      <td>60883</td>\n",
       "      <td>61632</td>\n",
       "      <td>61400</td>\n",
       "      <td>61094</td>\n",
       "      <td>61489</td>\n",
       "      <td>61818</td>\n",
       "      <td>63783</td>\n",
       "    </tr>\n",
       "  </tbody>\n",
       "</table>\n",
       "</div>"
      ],
      "text/plain": [
       "   id       state abbr  mhi_09  mhi_10  mhi_11  mhi_12  mhi_13  mhi_14  \\\n",
       "0   1     Alabama   AL   41216   42081   42934   43160   43253   43511   \n",
       "1   2      Alaska   AK   64635   66521   69014   69917   70760   71829   \n",
       "2   3     Arizona   AZ   50296   50448   50752   50256   49774   49928   \n",
       "3   4    Arkansas   AR   38542   39267   40149   40531   40768   41264   \n",
       "4   5  California   CA   60392   60883   61632   61400   61094   61489   \n",
       "\n",
       "   mhi_15  mhi_16  \n",
       "0   43623   44758  \n",
       "1   72515   74444  \n",
       "2   50255   51340  \n",
       "3   41371   42336  \n",
       "4   61818   63783  "
      ]
     },
     "execution_count": 6,
     "metadata": {},
     "output_type": "execute_result"
    }
   ],
   "source": [
    "income_df.head()"
   ]
  },
  {
   "cell_type": "code",
   "execution_count": 12,
   "metadata": {},
   "outputs": [
    {
     "data": {
      "text/plain": [
       "'Arizona'"
      ]
     },
     "execution_count": 12,
     "metadata": {},
     "output_type": "execute_result"
    }
   ],
   "source": [
    "income_df.state[2]"
   ]
  },
  {
   "cell_type": "code",
   "execution_count": 17,
   "metadata": {},
   "outputs": [
    {
     "data": {
      "text/plain": [
       "'Arizona'"
      ]
     },
     "execution_count": 17,
     "metadata": {},
     "output_type": "execute_result"
    }
   ],
   "source": [
    "income_df.iloc[2,1]"
   ]
  },
  {
   "cell_type": "code",
   "execution_count": 33,
   "metadata": {},
   "outputs": [],
   "source": [
    "for index in range(len(home_df[\"id\"])):\n",
    "#         houseDesc.append(home_df.iloc[index,1])\n",
    "    results = [{\n",
    "        'state': home_df.iloc[index]['state'],\n",
    "        'abbr': home_df.iloc[index]['abbr'],\n",
    "        'mhp_09': int(home_df.iloc[index]['mhp_09']),\n",
    "        'mhp_10': int(home_df.iloc[index]['mhp_10']),\n",
    "        'mhp_11': int(home_df.iloc[index]['mhp_11']),\n",
    "        'mhp_12': int(home_df.iloc[index]['mhp_12']),\n",
    "        'mhp_13': int(home_df.iloc[index]['mhp_13']),\n",
    "        'mhp_14': int(home_df.iloc[index]['mhp_14']),\n",
    "        'mhp_15': int(home_df.iloc[index]['mhp_15']),\n",
    "        'mhp_16': int(home_df.iloc[index]['mhp_16'])\n",
    "        }]"
   ]
  },
  {
   "cell_type": "code",
   "execution_count": 26,
   "metadata": {},
   "outputs": [
    {
     "data": {
      "text/plain": [
       "52"
      ]
     },
     "execution_count": 26,
     "metadata": {},
     "output_type": "execute_result"
    }
   ],
   "source": [
    "len(home_df[\"id\"])"
   ]
  },
  {
   "cell_type": "code",
   "execution_count": 34,
   "metadata": {},
   "outputs": [
    {
     "data": {
      "text/plain": [
       "[{'abbr': 'PR',\n",
       "  'mhp_09': 107200,\n",
       "  'mhp_10': 112600,\n",
       "  'mhp_11': 117300,\n",
       "  'mhp_12': 121500,\n",
       "  'mhp_13': 121200,\n",
       "  'mhp_14': 121700,\n",
       "  'mhp_15': 120500,\n",
       "  'mhp_16': 118600,\n",
       "  'state': 'Puerto Rico'}]"
      ]
     },
     "execution_count": 34,
     "metadata": {},
     "output_type": "execute_result"
    }
   ],
   "source": [
    "results"
   ]
  },
  {
   "cell_type": "code",
   "execution_count": 35,
   "metadata": {},
   "outputs": [
    {
     "name": "stdout",
     "output_type": "stream",
     "text": [
      "Index(['id', 'state', 'abbr', 'mhp_09', 'mhp_10', 'mhp_11', 'mhp_12', 'mhp_13',\n",
      "       'mhp_14', 'mhp_15', 'mhp_16'],\n",
      "      dtype='object')\n",
      "11\n"
     ]
    }
   ],
   "source": [
    "#     print(sample)\n",
    "#     descSamples_df = samples_df.sort_values('otu_id', ascending=False)\n",
    "\n",
    "clList = home_df.columns\n",
    "    \n",
    "print(clList)\n",
    "print(len(clList))\n",
    "position = 0\n",
    "# for index in range(len(clList)):\n",
    "#     if (clList[index] == sample):\n",
    "#         position = index\n",
    "#         break\n",
    "#     position += 1\n",
    "\n",
    "stateList =[]\n",
    "abbrList =[]\n",
    "dataList =[]\n",
    "# for index in range(len(descSamples_df[\"otu_id\"])):\n",
    "#     if (descSamples_df.iloc[index,position] != 0):\n",
    "#         sampleList.append(int(descSamples_df.iloc[index,position]))\n",
    "#         otuList.append(int(descSamples_df.iloc[index,0]))\n",
    "\n",
    "        stateList.append(home_df.iloc[index]['state'])\n",
    "\n",
    "\n",
    "houseResults = [{\n",
    "        'state': stateList,\n",
    "        'abbr': abbrList,\n",
    "        'data': dataList\n",
    "    }] "
   ]
  },
  {
   "cell_type": "code",
   "execution_count": 39,
   "metadata": {},
   "outputs": [],
   "source": [
    "abbrList =[]\n",
    "dataList =[]"
   ]
  },
  {
   "cell_type": "code",
   "execution_count": 36,
   "metadata": {},
   "outputs": [],
   "source": [
    "stateList =[]"
   ]
  },
  {
   "cell_type": "code",
   "execution_count": 37,
   "metadata": {},
   "outputs": [],
   "source": [
    "stateList.append(home_df.iloc[0]['state'])"
   ]
  },
  {
   "cell_type": "code",
   "execution_count": 51,
   "metadata": {},
   "outputs": [],
   "source": [
    "stateList.append(home_df.iloc[1]['state'])\n",
    "abbrList.append(home_df.iloc[1]['abbr'])"
   ]
  },
  {
   "cell_type": "code",
   "execution_count": 54,
   "metadata": {},
   "outputs": [],
   "source": [
    "abbrList.append(home_df.iloc[0]['abbr'])"
   ]
  },
  {
   "cell_type": "code",
   "execution_count": 55,
   "metadata": {},
   "outputs": [],
   "source": [
    "houseResults = [{\n",
    "        'state': stateList,\n",
    "        'abbr': abbrList,\n",
    "        'data': dataList\n",
    "    }] "
   ]
  },
  {
   "cell_type": "code",
   "execution_count": 63,
   "metadata": {},
   "outputs": [
    {
     "data": {
      "text/plain": [
       "[]"
      ]
     },
     "execution_count": 63,
     "metadata": {},
     "output_type": "execute_result"
    }
   ],
   "source": [
    "houseResults"
   ]
  },
  {
   "cell_type": "code",
   "execution_count": 59,
   "metadata": {},
   "outputs": [
    {
     "data": {
      "text/plain": [
       "list"
      ]
     },
     "execution_count": 59,
     "metadata": {},
     "output_type": "execute_result"
    }
   ],
   "source": [
    "type(houseResults)"
   ]
  },
  {
   "cell_type": "code",
   "execution_count": 133,
   "metadata": {},
   "outputs": [],
   "source": [
    "stateList =[]\n",
    "abbrList =[]\n",
    "dataList =[]\n",
    "houseResults = []\n",
    "mhp_data = []\n",
    "stateResults1 = {}\n",
    "stateResutls2 = {}"
   ]
  },
  {
   "cell_type": "code",
   "execution_count": 89,
   "metadata": {},
   "outputs": [],
   "source": [
    "for index in range(len(home_df[\"id\"])):\n",
    "#         houseDesc.append(home_df.iloc[index,1])\n",
    "    stateList.append(home_df.iloc[index]['state'])\n",
    "    abbrList.append(home_df.iloc[index]['abbr'])\n",
    "    for x in range(3,11):\n",
    "        mhp_data.append(home_df.iloc[index,x])\n",
    "    \n",
    "\n",
    "    \n"
   ]
  },
  {
   "cell_type": "code",
   "execution_count": 134,
   "metadata": {},
   "outputs": [],
   "source": [
    "stateList.append(home_df.iloc[0]['state'])\n",
    "abbrList.append(home_df.iloc[0]['abbr'])\n",
    "for x in range(3,11):\n",
    "    mhp_data.append(home_df.iloc[0,x])"
   ]
  },
  {
   "cell_type": "code",
   "execution_count": 135,
   "metadata": {},
   "outputs": [],
   "source": [
    "stateResults1 = {\n",
    "        'state': stateList,\n",
    "        'abbr': abbrList,\n",
    "        'data': mhp_data\n",
    "    }"
   ]
  },
  {
   "cell_type": "code",
   "execution_count": 136,
   "metadata": {},
   "outputs": [
    {
     "data": {
      "text/plain": [
       "{'abbr': ['AL'],\n",
       " 'data': [111900, 117600, 120800, 122300, 122500, 123800, 125500, 128500],\n",
       " 'state': ['Alabama']}"
      ]
     },
     "execution_count": 136,
     "metadata": {},
     "output_type": "execute_result"
    }
   ],
   "source": [
    "stateResults1"
   ]
  },
  {
   "cell_type": "code",
   "execution_count": 137,
   "metadata": {},
   "outputs": [],
   "source": [
    "stateList =[]\n",
    "abbrList =[]\n",
    "dataList =[]\n",
    "houseResults = []\n",
    "mhp_data = []\n"
   ]
  },
  {
   "cell_type": "code",
   "execution_count": 138,
   "metadata": {},
   "outputs": [],
   "source": [
    "stateList.append(home_df.iloc[1]['state'])\n",
    "abbrList.append(home_df.iloc[1]['abbr'])\n",
    "for x in range(3,11):\n",
    "    mhp_data.append(home_df.iloc[1,x])"
   ]
  },
  {
   "cell_type": "code",
   "execution_count": 139,
   "metadata": {},
   "outputs": [],
   "source": [
    "stateResults2 = {\n",
    "        'state': stateList,\n",
    "        'abbr': abbrList,\n",
    "        'data': mhp_data\n",
    "    }"
   ]
  },
  {
   "cell_type": "code",
   "execution_count": 140,
   "metadata": {},
   "outputs": [
    {
     "data": {
      "text/plain": [
       "{'abbr': ['AK'],\n",
       " 'data': [221300, 229100, 235100, 237900, 241800, 246300, 250000, 257100],\n",
       " 'state': ['Alaska']}"
      ]
     },
     "execution_count": 140,
     "metadata": {},
     "output_type": "execute_result"
    }
   ],
   "source": [
    "stateResults2"
   ]
  },
  {
   "cell_type": "code",
   "execution_count": 141,
   "metadata": {},
   "outputs": [],
   "source": [
    "result = [\n",
    "    stateResults1,\n",
    "    stateResults2\n",
    "]"
   ]
  },
  {
   "cell_type": "code",
   "execution_count": 142,
   "metadata": {},
   "outputs": [
    {
     "data": {
      "text/plain": [
       "[{'abbr': ['AL'],\n",
       "  'data': [111900, 117600, 120800, 122300, 122500, 123800, 125500, 128500],\n",
       "  'state': ['Alabama']},\n",
       " {'abbr': ['AK'],\n",
       "  'data': [221300, 229100, 235100, 237900, 241800, 246300, 250000, 257100],\n",
       "  'state': ['Alaska']}]"
      ]
     },
     "execution_count": 142,
     "metadata": {},
     "output_type": "execute_result"
    }
   ],
   "source": [
    "result"
   ]
  },
  {
   "cell_type": "code",
   "execution_count": 143,
   "metadata": {},
   "outputs": [
    {
     "data": {
      "text/plain": [
       "{'abbr': ['AL'],\n",
       " 'data': [111900, 117600, 120800, 122300, 122500, 123800, 125500, 128500],\n",
       " 'state': ['Alabama']}"
      ]
     },
     "execution_count": 143,
     "metadata": {},
     "output_type": "execute_result"
    }
   ],
   "source": [
    "result[0]"
   ]
  },
  {
   "cell_type": "code",
   "execution_count": 144,
   "metadata": {},
   "outputs": [
    {
     "data": {
      "text/plain": [
       "{'abbr': ['AK'],\n",
       " 'data': [221300, 229100, 235100, 237900, 241800, 246300, 250000, 257100],\n",
       " 'state': ['Alaska']}"
      ]
     },
     "execution_count": 144,
     "metadata": {},
     "output_type": "execute_result"
    }
   ],
   "source": [
    "result[1]"
   ]
  },
  {
   "cell_type": "code",
   "execution_count": 147,
   "metadata": {},
   "outputs": [
    {
     "data": {
      "text/plain": [
       "229100"
      ]
     },
     "execution_count": 147,
     "metadata": {},
     "output_type": "execute_result"
    }
   ],
   "source": [
    "result[1][\"data\"][1]"
   ]
  },
  {
   "cell_type": "code",
   "execution_count": 157,
   "metadata": {},
   "outputs": [],
   "source": [
    "result_set = []"
   ]
  },
  {
   "cell_type": "code",
   "execution_count": 158,
   "metadata": {},
   "outputs": [],
   "source": [
    "result_set = []\n",
    "state_set = []\n",
    "for index in range(len(home_df[\"id\"])):\n",
    "    stateList = []\n",
    "    abbrList = []\n",
    "    mhp_data = []\n",
    "    stateList.append(home_df.iloc[index]['state'])\n",
    "    abbrList.append(home_df.iloc[index]['abbr'])\n",
    "    for x in range(3,11):\n",
    "        mhp_data.append(home_df.iloc[index,x])\n",
    "    state_set = {\n",
    "        'state': stateList,\n",
    "        'abbr': abbrList,\n",
    "        'data': mhp_data\n",
    "    }\n",
    "    result_set.append(state_set)\n",
    "  "
   ]
  },
  {
   "cell_type": "code",
   "execution_count": 164,
   "metadata": {},
   "outputs": [
    {
     "data": {
      "text/plain": [
       "169000"
      ]
     },
     "execution_count": 164,
     "metadata": {},
     "output_type": "execute_result"
    }
   ],
   "source": [
    "result_set[49]['data'][3]"
   ]
  },
  {
   "cell_type": "code",
   "execution_count": 165,
   "metadata": {},
   "outputs": [],
   "source": [
    "abbrList = [\"al\", \"ak\", \"az\", \"il\", 'wi', \"ca\", \"mn\", \"ma\", 'tx', \"ia\", \"nh\", 'sc'] "
   ]
  },
  {
   "cell_type": "code",
   "execution_count": 166,
   "metadata": {},
   "outputs": [
    {
     "data": {
      "text/plain": [
       "['al', 'ak', 'az', 'il', 'wi', 'ca', 'mn', 'ma', 'tx', 'ia', 'nh', 'sc']"
      ]
     },
     "execution_count": 166,
     "metadata": {},
     "output_type": "execute_result"
    }
   ],
   "source": [
    "abbrList"
   ]
  },
  {
   "cell_type": "code",
   "execution_count": null,
   "metadata": {},
   "outputs": [],
   "source": []
  }
 ],
 "metadata": {
  "kernelspec": {
   "display_name": "Python 3",
   "language": "python",
   "name": "python3"
  },
  "language_info": {
   "codemirror_mode": {
    "name": "ipython",
    "version": 3
   },
   "file_extension": ".py",
   "mimetype": "text/x-python",
   "name": "python",
   "nbconvert_exporter": "python",
   "pygments_lexer": "ipython3",
   "version": "3.6.4"
  }
 },
 "nbformat": 4,
 "nbformat_minor": 2
}
