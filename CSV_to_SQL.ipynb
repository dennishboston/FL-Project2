{
 "cells": [
  {
   "cell_type": "code",
   "execution_count": 17,
   "metadata": {},
   "outputs": [],
   "source": [
    "# Clean up any existing database and cleaned files prior to creating the DB and cleaned CSV files"
   ]
  },
  {
   "cell_type": "code",
   "execution_count": 18,
   "metadata": {},
   "outputs": [
    {
     "name": "stdout",
     "output_type": "stream",
     "text": [
      "rm: data/flp2Data.sqlite: No such file or directory\n",
      "rm: data/home_cleaned.csv: No such file or directory\n",
      "rm: data/income_cleaned.csv: No such file or directory\n"
     ]
    }
   ],
   "source": [
    "!rm data/flp2Data.sqlite data/home_cleaned.csv data/income_cleaned.csv"
   ]
  },
  {
   "cell_type": "code",
   "execution_count": 19,
   "metadata": {
    "collapsed": true
   },
   "outputs": [],
   "source": [
    "# Dependencies\n",
    "import pandas as pd\n",
    "import numpy as np\n",
    "import os"
   ]
  },
  {
   "cell_type": "markdown",
   "metadata": {},
   "source": [
    "# Data Cleaning"
   ]
  },
  {
   "cell_type": "code",
   "execution_count": 20,
   "metadata": {
    "collapsed": true
   },
   "outputs": [],
   "source": [
    "# Path of the CSV file\n",
    "homecsv = \"data/median_home_prices.csv\"\n",
    "incomecsv = \"data/median_household_income.csv\""
   ]
  },
  {
   "cell_type": "code",
   "execution_count": 21,
   "metadata": {
    "collapsed": true
   },
   "outputs": [],
   "source": [
    "# Read CSV file into a pandas DataFrame\n",
    "income_df = pd.read_csv(incomecsv, dtype=object)\n"
   ]
  },
  {
   "cell_type": "code",
   "execution_count": 22,
   "metadata": {},
   "outputs": [],
   "source": [
    "# Read CSV file into a pandas DataFrame\n",
    "home_df = pd.read_csv(homecsv, dtype=object)\n"
   ]
  },
  {
   "cell_type": "code",
   "execution_count": 23,
   "metadata": {},
   "outputs": [
    {
     "data": {
      "text/html": [
       "<div>\n",
       "<style scoped>\n",
       "    .dataframe tbody tr th:only-of-type {\n",
       "        vertical-align: middle;\n",
       "    }\n",
       "\n",
       "    .dataframe tbody tr th {\n",
       "        vertical-align: top;\n",
       "    }\n",
       "\n",
       "    .dataframe thead th {\n",
       "        text-align: right;\n",
       "    }\n",
       "</style>\n",
       "<table border=\"1\" class=\"dataframe\">\n",
       "  <thead>\n",
       "    <tr style=\"text-align: right;\">\n",
       "      <th></th>\n",
       "      <th>state</th>\n",
       "      <th>abbr</th>\n",
       "      <th>mhi_09</th>\n",
       "      <th>mhi_10</th>\n",
       "      <th>mhi_11</th>\n",
       "      <th>mhi_12</th>\n",
       "      <th>mhi_13</th>\n",
       "      <th>mhi_14</th>\n",
       "      <th>mhi_15</th>\n",
       "      <th>mhi_16</th>\n",
       "    </tr>\n",
       "  </thead>\n",
       "  <tbody>\n",
       "    <tr>\n",
       "      <th>0</th>\n",
       "      <td>Alabama</td>\n",
       "      <td>AL</td>\n",
       "      <td>41216</td>\n",
       "      <td>42081</td>\n",
       "      <td>42934</td>\n",
       "      <td>43160</td>\n",
       "      <td>43253</td>\n",
       "      <td>43511</td>\n",
       "      <td>43623</td>\n",
       "      <td>44758</td>\n",
       "    </tr>\n",
       "    <tr>\n",
       "      <th>1</th>\n",
       "      <td>Alaska</td>\n",
       "      <td>AK</td>\n",
       "      <td>64635</td>\n",
       "      <td>66521</td>\n",
       "      <td>69014</td>\n",
       "      <td>69917</td>\n",
       "      <td>70760</td>\n",
       "      <td>71829</td>\n",
       "      <td>72515</td>\n",
       "      <td>74444</td>\n",
       "    </tr>\n",
       "    <tr>\n",
       "      <th>2</th>\n",
       "      <td>Arizona</td>\n",
       "      <td>AZ</td>\n",
       "      <td>50296</td>\n",
       "      <td>50448</td>\n",
       "      <td>50752</td>\n",
       "      <td>50256</td>\n",
       "      <td>49774</td>\n",
       "      <td>49928</td>\n",
       "      <td>50255</td>\n",
       "      <td>51340</td>\n",
       "    </tr>\n",
       "    <tr>\n",
       "      <th>3</th>\n",
       "      <td>Arkansas</td>\n",
       "      <td>AR</td>\n",
       "      <td>38542</td>\n",
       "      <td>39267</td>\n",
       "      <td>40149</td>\n",
       "      <td>40531</td>\n",
       "      <td>40768</td>\n",
       "      <td>41264</td>\n",
       "      <td>41371</td>\n",
       "      <td>42336</td>\n",
       "    </tr>\n",
       "    <tr>\n",
       "      <th>4</th>\n",
       "      <td>California</td>\n",
       "      <td>CA</td>\n",
       "      <td>60392</td>\n",
       "      <td>60883</td>\n",
       "      <td>61632</td>\n",
       "      <td>61400</td>\n",
       "      <td>61094</td>\n",
       "      <td>61489</td>\n",
       "      <td>61818</td>\n",
       "      <td>63783</td>\n",
       "    </tr>\n",
       "  </tbody>\n",
       "</table>\n",
       "</div>"
      ],
      "text/plain": [
       "        state abbr mhi_09 mhi_10 mhi_11 mhi_12 mhi_13 mhi_14 mhi_15 mhi_16\n",
       "0     Alabama   AL  41216  42081  42934  43160  43253  43511  43623  44758\n",
       "1      Alaska   AK  64635  66521  69014  69917  70760  71829  72515  74444\n",
       "2     Arizona   AZ  50296  50448  50752  50256  49774  49928  50255  51340\n",
       "3    Arkansas   AR  38542  39267  40149  40531  40768  41264  41371  42336\n",
       "4  California   CA  60392  60883  61632  61400  61094  61489  61818  63783"
      ]
     },
     "execution_count": 23,
     "metadata": {},
     "output_type": "execute_result"
    }
   ],
   "source": [
    "# Preview DataFrame\n",
    "# Note that some rows are missing gender\n",
    "income_df.head()"
   ]
  },
  {
   "cell_type": "code",
   "execution_count": 24,
   "metadata": {},
   "outputs": [
    {
     "data": {
      "text/html": [
       "<div>\n",
       "<style scoped>\n",
       "    .dataframe tbody tr th:only-of-type {\n",
       "        vertical-align: middle;\n",
       "    }\n",
       "\n",
       "    .dataframe tbody tr th {\n",
       "        vertical-align: top;\n",
       "    }\n",
       "\n",
       "    .dataframe thead th {\n",
       "        text-align: right;\n",
       "    }\n",
       "</style>\n",
       "<table border=\"1\" class=\"dataframe\">\n",
       "  <thead>\n",
       "    <tr style=\"text-align: right;\">\n",
       "      <th></th>\n",
       "      <th>state</th>\n",
       "      <th>abbr</th>\n",
       "      <th>mhp_09</th>\n",
       "      <th>mhp_10</th>\n",
       "      <th>mhp_11</th>\n",
       "      <th>mhp_12</th>\n",
       "      <th>mhp_13</th>\n",
       "      <th>mhp_14</th>\n",
       "      <th>mhp_15</th>\n",
       "      <th>mhp_16</th>\n",
       "    </tr>\n",
       "  </thead>\n",
       "  <tbody>\n",
       "    <tr>\n",
       "      <th>0</th>\n",
       "      <td>Alabama</td>\n",
       "      <td>AL</td>\n",
       "      <td>111900</td>\n",
       "      <td>117600</td>\n",
       "      <td>120800</td>\n",
       "      <td>122300</td>\n",
       "      <td>122500</td>\n",
       "      <td>123800</td>\n",
       "      <td>125500</td>\n",
       "      <td>128500</td>\n",
       "    </tr>\n",
       "    <tr>\n",
       "      <th>1</th>\n",
       "      <td>Alaska</td>\n",
       "      <td>AK</td>\n",
       "      <td>221300</td>\n",
       "      <td>229100</td>\n",
       "      <td>235100</td>\n",
       "      <td>237900</td>\n",
       "      <td>241800</td>\n",
       "      <td>246300</td>\n",
       "      <td>250000</td>\n",
       "      <td>257100</td>\n",
       "    </tr>\n",
       "    <tr>\n",
       "      <th>2</th>\n",
       "      <td>Arizona</td>\n",
       "      <td>AZ</td>\n",
       "      <td>218400</td>\n",
       "      <td>215000</td>\n",
       "      <td>197400</td>\n",
       "      <td>175900</td>\n",
       "      <td>165100</td>\n",
       "      <td>162900</td>\n",
       "      <td>167500</td>\n",
       "      <td>176900</td>\n",
       "    </tr>\n",
       "    <tr>\n",
       "      <th>3</th>\n",
       "      <td>Arkansas</td>\n",
       "      <td>AR</td>\n",
       "      <td>97200</td>\n",
       "      <td>102300</td>\n",
       "      <td>105100</td>\n",
       "      <td>106300</td>\n",
       "      <td>107300</td>\n",
       "      <td>108700</td>\n",
       "      <td>111400</td>\n",
       "      <td>114700</td>\n",
       "    </tr>\n",
       "    <tr>\n",
       "      <th>4</th>\n",
       "      <td>California</td>\n",
       "      <td>CA</td>\n",
       "      <td>479200</td>\n",
       "      <td>458500</td>\n",
       "      <td>421600</td>\n",
       "      <td>383900</td>\n",
       "      <td>366400</td>\n",
       "      <td>371400</td>\n",
       "      <td>385500</td>\n",
       "      <td>409300</td>\n",
       "    </tr>\n",
       "  </tbody>\n",
       "</table>\n",
       "</div>"
      ],
      "text/plain": [
       "        state abbr  mhp_09  mhp_10  mhp_11  mhp_12  mhp_13  mhp_14  mhp_15  \\\n",
       "0     Alabama   AL  111900  117600  120800  122300  122500  123800  125500   \n",
       "1      Alaska   AK  221300  229100  235100  237900  241800  246300  250000   \n",
       "2     Arizona   AZ  218400  215000  197400  175900  165100  162900  167500   \n",
       "3    Arkansas   AR   97200  102300  105100  106300  107300  108700  111400   \n",
       "4  California   CA  479200  458500  421600  383900  366400  371400  385500   \n",
       "\n",
       "   mhp_16  \n",
       "0  128500  \n",
       "1  257100  \n",
       "2  176900  \n",
       "3  114700  \n",
       "4  409300  "
      ]
     },
     "execution_count": 24,
     "metadata": {},
     "output_type": "execute_result"
    }
   ],
   "source": [
    "home_df.head()"
   ]
  },
  {
   "cell_type": "code",
   "execution_count": 29,
   "metadata": {},
   "outputs": [
    {
     "data": {
      "text/html": [
       "<div>\n",
       "<style scoped>\n",
       "    .dataframe tbody tr th:only-of-type {\n",
       "        vertical-align: middle;\n",
       "    }\n",
       "\n",
       "    .dataframe tbody tr th {\n",
       "        vertical-align: top;\n",
       "    }\n",
       "\n",
       "    .dataframe thead th {\n",
       "        text-align: right;\n",
       "    }\n",
       "</style>\n",
       "<table border=\"1\" class=\"dataframe\">\n",
       "  <thead>\n",
       "    <tr style=\"text-align: right;\">\n",
       "      <th></th>\n",
       "      <th>state</th>\n",
       "      <th>abbr</th>\n",
       "      <th>mhi_09</th>\n",
       "      <th>mhi_10</th>\n",
       "      <th>mhi_11</th>\n",
       "      <th>mhi_12</th>\n",
       "      <th>mhi_13</th>\n",
       "      <th>mhi_14</th>\n",
       "      <th>mhi_15</th>\n",
       "      <th>mhi_16</th>\n",
       "    </tr>\n",
       "  </thead>\n",
       "  <tbody>\n",
       "    <tr>\n",
       "      <th>count</th>\n",
       "      <td>52</td>\n",
       "      <td>52</td>\n",
       "      <td>52</td>\n",
       "      <td>52</td>\n",
       "      <td>52</td>\n",
       "      <td>52</td>\n",
       "      <td>52</td>\n",
       "      <td>52</td>\n",
       "      <td>52</td>\n",
       "      <td>52</td>\n",
       "    </tr>\n",
       "    <tr>\n",
       "      <th>unique</th>\n",
       "      <td>52</td>\n",
       "      <td>52</td>\n",
       "      <td>52</td>\n",
       "      <td>52</td>\n",
       "      <td>52</td>\n",
       "      <td>52</td>\n",
       "      <td>52</td>\n",
       "      <td>52</td>\n",
       "      <td>52</td>\n",
       "      <td>52</td>\n",
       "    </tr>\n",
       "    <tr>\n",
       "      <th>top</th>\n",
       "      <td>Kentucky</td>\n",
       "      <td>NH</td>\n",
       "      <td>47465</td>\n",
       "      <td>63277</td>\n",
       "      <td>55975</td>\n",
       "      <td>51273</td>\n",
       "      <td>44874</td>\n",
       "      <td>47764</td>\n",
       "      <td>74551</td>\n",
       "      <td>44758</td>\n",
       "    </tr>\n",
       "    <tr>\n",
       "      <th>freq</th>\n",
       "      <td>1</td>\n",
       "      <td>1</td>\n",
       "      <td>1</td>\n",
       "      <td>1</td>\n",
       "      <td>1</td>\n",
       "      <td>1</td>\n",
       "      <td>1</td>\n",
       "      <td>1</td>\n",
       "      <td>1</td>\n",
       "      <td>1</td>\n",
       "    </tr>\n",
       "  </tbody>\n",
       "</table>\n",
       "</div>"
      ],
      "text/plain": [
       "           state abbr mhi_09 mhi_10 mhi_11 mhi_12 mhi_13 mhi_14 mhi_15 mhi_16\n",
       "count         52   52     52     52     52     52     52     52     52     52\n",
       "unique        52   52     52     52     52     52     52     52     52     52\n",
       "top     Kentucky   NH  47465  63277  55975  51273  44874  47764  74551  44758\n",
       "freq           1    1      1      1      1      1      1      1      1      1"
      ]
     },
     "execution_count": 29,
     "metadata": {},
     "output_type": "execute_result"
    }
   ],
   "source": [
    "income_df.describe()"
   ]
  },
  {
   "cell_type": "code",
   "execution_count": 30,
   "metadata": {},
   "outputs": [],
   "source": [
    "# Use `dropna` to drop any rows where there is missing data\n",
    "# Notice that index has not been reset and contains a gap (0,2,5,6,7)\n",
    "# df = df.dropna(axis=0)\n",
    "# df.head()"
   ]
  },
  {
   "cell_type": "code",
   "execution_count": 31,
   "metadata": {},
   "outputs": [],
   "source": [
    "# Drop the 'gender' column and reset the index\n",
    "# Note that after resetting the index, the gap is gone\n",
    "# df = df.drop(['gender'], axis=1).reset_index(drop=True)\n",
    "# df.head()"
   ]
  },
  {
   "cell_type": "code",
   "execution_count": 8,
   "metadata": {
    "collapsed": true
   },
   "outputs": [],
   "source": [
    "# # Save the cleaned data to a file called `customers_cleaned.csv`\n",
    "# new_csv = \"customers_cleaned.csv\"\n",
    "# df.to_csv(new_csv, index=False)"
   ]
  },
  {
   "cell_type": "markdown",
   "metadata": {},
   "source": [
    "# Database Creation"
   ]
  },
  {
   "cell_type": "code",
   "execution_count": 32,
   "metadata": {
    "collapsed": true
   },
   "outputs": [],
   "source": [
    "# Python SQL toolkit and Object Relational Mapper\n",
    "import sqlalchemy\n",
    "from sqlalchemy import create_engine, MetaData\n",
    "from sqlalchemy.ext.declarative import declarative_base\n",
    "from sqlalchemy import Column, Integer, String, Numeric, Text, Float"
   ]
  },
  {
   "cell_type": "code",
   "execution_count": 33,
   "metadata": {
    "collapsed": true
   },
   "outputs": [],
   "source": [
    "# Create an engine to a SQLite database file called `customers.sqlite`\n",
    "engine = create_engine(\"sqlite:///data/flp2Data.sqlite\")"
   ]
  },
  {
   "cell_type": "code",
   "execution_count": 34,
   "metadata": {
    "collapsed": true
   },
   "outputs": [],
   "source": [
    "# Create a connection to the engine called `conn`\n",
    "conn = engine.connect()"
   ]
  },
  {
   "cell_type": "code",
   "execution_count": 36,
   "metadata": {
    "collapsed": true
   },
   "outputs": [],
   "source": [
    "# Use `declarative_base` from SQLAlchemy to model the demographics table as an ORM class\n",
    "# Make sure to specify types for each column, e.g. Integer, Text, etc.\n",
    "# http://docs.sqlalchemy.org/en/latest/core/type_basics.html\n",
    "Base = declarative_base()\n",
    "\n",
    "class Home(Base):\n",
    "    __tablename__ = 'homeprice'\n",
    "\n",
    "    id = Column(Integer, primary_key=True)\n",
    "    state = Column(Text)\n",
    "    abbr = Column(Text)\n",
    "    mhp_09 = Column(Integer)\n",
    "    mhp_10 = Column(Integer)\n",
    "    mhp_11 = Column(Integer)\n",
    "    mhp_12 = Column(Integer)\n",
    "    mhp_13 = Column(Integer)\n",
    "    mhp_14 = Column(Integer)\n",
    "    mhp_15 = Column(Integer)\n",
    "    mhp_16 = Column(Integer)\n",
    "    \n",
    "    def __repr__(self):\n",
    "        return f\"id={self.id}, name={self.name}\"\n",
    "# More on __repr__: https://stackoverflow.com/questions/1984162/purpose-of-pythons-repr    "
   ]
  },
  {
   "cell_type": "code",
   "execution_count": 37,
   "metadata": {
    "collapsed": true
   },
   "outputs": [],
   "source": [
    "# Use `create_all` to create the median home price table in the database\n",
    "Base.metadata.create_all(engine)"
   ]
  },
  {
   "cell_type": "code",
   "execution_count": 38,
   "metadata": {
    "collapsed": true
   },
   "outputs": [],
   "source": [
    "# Load the cleaned csv file into a pandas dataframe\n",
    "# new_df = pd.read_csv(new_csv)"
   ]
  },
  {
   "cell_type": "code",
   "execution_count": 39,
   "metadata": {
    "collapsed": true
   },
   "outputs": [],
   "source": [
    "# Start with median home price\n",
    "# Use Orient='records' to create a list of data to write\n",
    "# to_dict() cleans out DataFrame metadata as well\n",
    "# http://pandas-docs.github.io/pandas-docs-travis/io.html#orient-options\n",
    "home_data = home_df.to_dict(orient='records')"
   ]
  },
  {
   "cell_type": "code",
   "execution_count": 40,
   "metadata": {},
   "outputs": [
    {
     "name": "stdout",
     "output_type": "stream",
     "text": [
      "[{'state': 'Alabama', 'abbr': 'AL', 'mhp_09': '111900', 'mhp_10': '117600', 'mhp_11': '120800', 'mhp_12': '122300', 'mhp_13': '122500', 'mhp_14': '123800', 'mhp_15': '125500', 'mhp_16': '128500'}, {'state': 'Alaska', 'abbr': 'AK', 'mhp_09': '221300', 'mhp_10': '229100', 'mhp_11': '235100', 'mhp_12': '237900', 'mhp_13': '241800', 'mhp_14': '246300', 'mhp_15': '250000', 'mhp_16': '257100'}, {'state': 'Arizona', 'abbr': 'AZ', 'mhp_09': '218400', 'mhp_10': '215000', 'mhp_11': '197400', 'mhp_12': '175900', 'mhp_13': '165100', 'mhp_14': '162900', 'mhp_15': '167500', 'mhp_16': '176900'}, {'state': 'Arkansas', 'abbr': 'AR', 'mhp_09': '97200', 'mhp_10': '102300', 'mhp_11': '105100', 'mhp_12': '106300', 'mhp_13': '107300', 'mhp_14': '108700', 'mhp_15': '111400', 'mhp_16': '114700'}, {'state': 'California', 'abbr': 'CA', 'mhp_09': '479200', 'mhp_10': '458500', 'mhp_11': '421600', 'mhp_12': '383900', 'mhp_13': '366400', 'mhp_14': '371400', 'mhp_15': '385500', 'mhp_16': '409300'}]\n"
     ]
    }
   ],
   "source": [
    "# Data is just a list of dictionaries that represent each row of data\n",
    "print(home_data[:5])"
   ]
  },
  {
   "cell_type": "code",
   "execution_count": 42,
   "metadata": {
    "collapsed": true
   },
   "outputs": [],
   "source": [
    "# Use MetaData from SQLAlchemy to reflect the tables\n",
    "metadata = MetaData(bind=engine)\n",
    "metadata.reflect()"
   ]
  },
  {
   "cell_type": "code",
   "execution_count": 43,
   "metadata": {
    "collapsed": true
   },
   "outputs": [],
   "source": [
    "# Save the reference to the `homeprice table as a variable called `table`\n",
    "table = sqlalchemy.Table('homeprice', metadata, autoload=True)"
   ]
  },
  {
   "cell_type": "code",
   "execution_count": 44,
   "metadata": {},
   "outputs": [
    {
     "data": {
      "text/plain": [
       "<sqlalchemy.engine.result.ResultProxy at 0x106a98198>"
      ]
     },
     "execution_count": 44,
     "metadata": {},
     "output_type": "execute_result"
    }
   ],
   "source": [
    "# Use `table.delete()` to remove any pre-existing data.\n",
    "# Note that this is a convenience function so that you can re-run the example code multiple times.\n",
    "# You would not likely do this step in production.\n",
    "conn.execute(table.delete())"
   ]
  },
  {
   "cell_type": "code",
   "execution_count": 45,
   "metadata": {},
   "outputs": [
    {
     "data": {
      "text/plain": [
       "<sqlalchemy.engine.result.ResultProxy at 0x106a98ba8>"
      ]
     },
     "execution_count": 45,
     "metadata": {},
     "output_type": "execute_result"
    }
   ],
   "source": [
    "# Use `table.insert()` to insert the data into the table\n",
    "# The SQL table is populated during this step\n",
    "conn.execute(table.insert(), home_data)"
   ]
  },
  {
   "cell_type": "code",
   "execution_count": 46,
   "metadata": {},
   "outputs": [
    {
     "data": {
      "text/plain": [
       "[(1, 'Alabama', 'AL', 111900, 117600, 120800, 122300, 122500, 123800, 125500, 128500),\n",
       " (2, 'Alaska', 'AK', 221300, 229100, 235100, 237900, 241800, 246300, 250000, 257100),\n",
       " (3, 'Arizona', 'AZ', 218400, 215000, 197400, 175900, 165100, 162900, 167500, 176900),\n",
       " (4, 'Arkansas', 'AR', 97200, 102300, 105100, 106300, 107300, 108700, 111400, 114700),\n",
       " (5, 'California', 'CA', 479200, 458500, 421600, 383900, 366400, 371400, 385500, 409300)]"
      ]
     },
     "execution_count": 46,
     "metadata": {},
     "output_type": "execute_result"
    }
   ],
   "source": [
    "# Test that the insert works by fetching the first 5 rows. \n",
    "conn.execute(\"select * from homeprice limit 5\").fetchall()"
   ]
  },
  {
   "cell_type": "code",
   "execution_count": 47,
   "metadata": {},
   "outputs": [],
   "source": [
    "# Now lets create the median income table\n"
   ]
  },
  {
   "cell_type": "code",
   "execution_count": 48,
   "metadata": {},
   "outputs": [],
   "source": [
    "# Create a connection to the engine called `conn`\n",
    "conn = engine.connect()"
   ]
  },
  {
   "cell_type": "code",
   "execution_count": 49,
   "metadata": {},
   "outputs": [],
   "source": [
    "# Use `declarative_base` from SQLAlchemy to model the demographics table as an ORM class\n",
    "# Make sure to specify types for each column, e.g. Integer, Text, etc.\n",
    "# http://docs.sqlalchemy.org/en/latest/core/type_basics.html\n",
    "Base = declarative_base()\n",
    "\n",
    "class Home(Base):\n",
    "    __tablename__ = 'income'\n",
    "\n",
    "    id = Column(Integer, primary_key=True)\n",
    "    state = Column(Text)\n",
    "    abbr = Column(Text)\n",
    "    mhi_09 = Column(Integer)\n",
    "    mhi_10 = Column(Integer)\n",
    "    mhi_11 = Column(Integer)\n",
    "    mhi_12 = Column(Integer)\n",
    "    mhi_13 = Column(Integer)\n",
    "    mhi_14 = Column(Integer)\n",
    "    mhi_15 = Column(Integer)\n",
    "    mhi_16 = Column(Integer)\n",
    "    \n",
    "    def __repr__(self):\n",
    "        return f\"id={self.id}, name={self.name}\"\n",
    "# More on __repr__: https://stackoverflow.com/questions/1984162/purpose-of-pythons-repr   "
   ]
  },
  {
   "cell_type": "code",
   "execution_count": 50,
   "metadata": {},
   "outputs": [],
   "source": [
    "# Use `create_all` to create the median home income table in the database\n",
    "Base.metadata.create_all(engine)"
   ]
  },
  {
   "cell_type": "code",
   "execution_count": 51,
   "metadata": {},
   "outputs": [],
   "source": [
    "# Next we process median home income\n",
    "# Use Orient='records' to create a list of data to write\n",
    "# to_dict() cleans out DataFrame metadata as well\n",
    "# http://pandas-docs.github.io/pandas-docs-travis/io.html#orient-options\n",
    "income_data = income_df.to_dict(orient='records')"
   ]
  },
  {
   "cell_type": "code",
   "execution_count": 52,
   "metadata": {},
   "outputs": [
    {
     "name": "stdout",
     "output_type": "stream",
     "text": [
      "[{'state': 'Alabama', 'abbr': 'AL', 'mhi_09': '41216', 'mhi_10': '42081', 'mhi_11': '42934', 'mhi_12': '43160', 'mhi_13': '43253', 'mhi_14': '43511', 'mhi_15': '43623', 'mhi_16': '44758'}, {'state': 'Alaska', 'abbr': 'AK', 'mhi_09': '64635', 'mhi_10': '66521', 'mhi_11': '69014', 'mhi_12': '69917', 'mhi_13': '70760', 'mhi_14': '71829', 'mhi_15': '72515', 'mhi_16': '74444'}, {'state': 'Arizona', 'abbr': 'AZ', 'mhi_09': '50296', 'mhi_10': '50448', 'mhi_11': '50752', 'mhi_12': '50256', 'mhi_13': '49774', 'mhi_14': '49928', 'mhi_15': '50255', 'mhi_16': '51340'}, {'state': 'Arkansas', 'abbr': 'AR', 'mhi_09': '38542', 'mhi_10': '39267', 'mhi_11': '40149', 'mhi_12': '40531', 'mhi_13': '40768', 'mhi_14': '41264', 'mhi_15': '41371', 'mhi_16': '42336'}, {'state': 'California', 'abbr': 'CA', 'mhi_09': '60392', 'mhi_10': '60883', 'mhi_11': '61632', 'mhi_12': '61400', 'mhi_13': '61094', 'mhi_14': '61489', 'mhi_15': '61818', 'mhi_16': '63783'}]\n"
     ]
    }
   ],
   "source": [
    "# Data is just a list of dictionaries that represent each row of data\n",
    "print(income_data[:5])"
   ]
  },
  {
   "cell_type": "code",
   "execution_count": 53,
   "metadata": {},
   "outputs": [],
   "source": [
    "# Use MetaData from SQLAlchemy to reflect the tables\n",
    "metadata = MetaData(bind=engine)\n",
    "metadata.reflect()"
   ]
  },
  {
   "cell_type": "code",
   "execution_count": 54,
   "metadata": {},
   "outputs": [],
   "source": [
    "# Save the reference to the `homeprice table as a variable called `table`\n",
    "table = sqlalchemy.Table('income', metadata, autoload=True)"
   ]
  },
  {
   "cell_type": "code",
   "execution_count": 55,
   "metadata": {},
   "outputs": [
    {
     "data": {
      "text/plain": [
       "<sqlalchemy.engine.result.ResultProxy at 0x106af85c0>"
      ]
     },
     "execution_count": 55,
     "metadata": {},
     "output_type": "execute_result"
    }
   ],
   "source": [
    "# Use `table.delete()` to remove any pre-existing data.\n",
    "# Note that this is a convenience function so that you can re-run the example code multiple times.\n",
    "# You would not likely do this step in production.\n",
    "conn.execute(table.delete())"
   ]
  },
  {
   "cell_type": "code",
   "execution_count": 56,
   "metadata": {},
   "outputs": [
    {
     "data": {
      "text/plain": [
       "<sqlalchemy.engine.result.ResultProxy at 0x106aefa90>"
      ]
     },
     "execution_count": 56,
     "metadata": {},
     "output_type": "execute_result"
    }
   ],
   "source": [
    "# Use `table.insert()` to insert the data into the table\n",
    "# The SQL table is populated during this step\n",
    "conn.execute(table.insert(), income_data)"
   ]
  },
  {
   "cell_type": "code",
   "execution_count": 57,
   "metadata": {},
   "outputs": [
    {
     "data": {
      "text/plain": [
       "[(1, 'Alabama', 'AL', 111900, 117600, 120800, 122300, 122500, 123800, 125500, 128500),\n",
       " (2, 'Alaska', 'AK', 221300, 229100, 235100, 237900, 241800, 246300, 250000, 257100),\n",
       " (3, 'Arizona', 'AZ', 218400, 215000, 197400, 175900, 165100, 162900, 167500, 176900),\n",
       " (4, 'Arkansas', 'AR', 97200, 102300, 105100, 106300, 107300, 108700, 111400, 114700),\n",
       " (5, 'California', 'CA', 479200, 458500, 421600, 383900, 366400, 371400, 385500, 409300)]"
      ]
     },
     "execution_count": 57,
     "metadata": {},
     "output_type": "execute_result"
    }
   ],
   "source": [
    "# Test that the insert works by fetching the first 5 rows. \n",
    "conn.execute(\"select * from homeprice limit 5\").fetchall()"
   ]
  },
  {
   "cell_type": "code",
   "execution_count": null,
   "metadata": {},
   "outputs": [],
   "source": []
  }
 ],
 "metadata": {
  "kernelspec": {
   "display_name": "Python 3",
   "language": "python",
   "name": "python3"
  },
  "language_info": {
   "codemirror_mode": {
    "name": "ipython",
    "version": 3
   },
   "file_extension": ".py",
   "mimetype": "text/x-python",
   "name": "python",
   "nbconvert_exporter": "python",
   "pygments_lexer": "ipython3",
   "version": "3.6.4"
  },
  "nteract": {
   "version": "0.2.0"
  },
  "varInspector": {
   "cols": {
    "lenName": 16,
    "lenType": 16,
    "lenVar": 40
   },
   "kernels_config": {
    "python": {
     "delete_cmd_postfix": "",
     "delete_cmd_prefix": "del ",
     "library": "var_list.py",
     "varRefreshCmd": "print(var_dic_list())"
    },
    "r": {
     "delete_cmd_postfix": ") ",
     "delete_cmd_prefix": "rm(",
     "library": "var_list.r",
     "varRefreshCmd": "cat(var_dic_list()) "
    }
   },
   "types_to_exclude": [
    "module",
    "function",
    "builtin_function_or_method",
    "instance",
    "_Feature"
   ],
   "window_display": false
  }
 },
 "nbformat": 4,
 "nbformat_minor": 2
}
